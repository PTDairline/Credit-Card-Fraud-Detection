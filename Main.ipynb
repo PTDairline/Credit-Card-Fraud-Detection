{
  "cells": [
    {
      "cell_type": "markdown",
      "source": [
        "#**Credit Card Fraud Detection**\n",
        "\n"
      ],
      "metadata": {
        "id": "oULBwpd9uKf6"
      }
    },
    {
      "cell_type": "markdown",
      "source": [
        "##About Project"
      ],
      "metadata": {
        "id": "LXZ-mciPq2gX"
      }
    },
    {
      "cell_type": "markdown",
      "source": [
        "Đồ án giới thiệu các phương pháp thống kê và học máy để phát hiện gian lận thẻ tín dụng. Bằng việc sử dụng 284807 giao dịch thẻ tín dụng của châu Âu trong tháng 09/2013, đồ án ứng dụng các mô hình như mô hình Logistic Regression, Decision Trees, Random Forest. Ngoài ra, đồ án cũng đưa ra cách xử lý trong trường hợp dữ liệu mất cân bằng và thông qua kết quả so sánh các mô hình.\n",
        "\n",
        "\n"
      ],
      "metadata": {
        "id": "hDBD3o0oq5uO"
      }
    },
    {
      "cell_type": "markdown",
      "source": [
        "##About dataset"
      ],
      "metadata": {
        "id": "VXddgFKZPDY_"
      }
    },
    {
      "cell_type": "markdown",
      "source": [
        "###Context\n",
        "\n",
        "Yêu cầu: Phát hiện gian lận thẻ tín dụng để khách hàng không bị tính phí cho các mặt hàng mà họ không mua.\n",
        "\n",
        "Link dataset from Kaggel: https://www.kaggle.com/datasets/mlg-ulb/creditcardfraud"
      ],
      "metadata": {
        "id": "_iYJsoFSPAcY"
      }
    },
    {
      "cell_type": "markdown",
      "source": [
        "###Content\n",
        "Bộ dữ liệu chứa các giao dịch bằng thẻ tín dụng xảy ra trong 2 ngày, vào tháng 9 năm 2013 bởi các chủ thẻ ở châu Âu. Trong đó, có 492 vụ gian lận trong tổng số 284.807 giao dịch. Bộ dữ liệu rất mất cân bằng, trường hợp giao dịch lừa đảo (fraud transaction) chiếm 0,172% trong tất cả các giao dịch.\n",
        "\n",
        "Bộ dữ liệu chứa các biến đầu vào là kết quả của phương pháp giảm chiều dữ liệu PCA. Do vấn đề bảo mật nên không thể cung cấp tên các feature ban đầu và thông tin cơ bản khác về dữ liệu.\n",
        "\n",
        "\n",
        "\n",
        "*   Các feature V1, V2, … V28 là thông tin cá nhân của chủ thẻ và là kết quả có được bởi PCA.\n",
        "\n",
        "Các feature duy nhất chưa được chuyển đổi với PCA là 'Time' và 'Amount'.\n",
        "\n",
        "*   'Time': là thời gian tính bằng giây kể từ giao dịch đang ghi nhận đến giao dịch đầu tiên được ghi nhận trong ngày.\n",
        "*   'Amount': là số tiền giao dịch (USD).\n",
        "*   'Class': là biến phân loại nhận giá trị 1 trong trường hợp gian lận và giá trị 0 nếu không gian lận."
      ],
      "metadata": {
        "id": "N-1e0-Z1vbSU"
      }
    },
    {
      "cell_type": "markdown",
      "source": [
        "## 1. Import necessary libraries"
      ],
      "metadata": {
        "id": "WWSaWRfTyceo"
      }
    },
    {
      "cell_type": "code",
      "execution_count": null,
      "metadata": {
        "id": "cHjR28vv_uSB"
      },
      "outputs": [],
      "source": [
        "#Import Libraries\n",
        "import pandas as pd\n",
        "import numpy as np\n",
        "import seaborn as sns\n",
        "import sklearn\n",
        "import matplotlib.pyplot as plt\n",
        "from imblearn.over_sampling import SMOTE\n",
        "from sklearn.preprocessing import StandardScaler\n",
        "from sklearn.preprocessing import RobustScaler\n",
        "from sklearn.metrics import confusion_matrix, ConfusionMatrixDisplay\n",
        "from sklearn.model_selection import train_test_split\n",
        "from sklearn.linear_model import LogisticRegression\n",
        "from sklearn.tree import DecisionTreeClassifier\n",
        "from sklearn.ensemble import RandomForestClassifier\n",
        "from sklearn.metrics import precision_score, recall_score, f1_score, roc_auc_score\n",
        "from collections import Counter\n",
        "from imblearn.over_sampling import SMOTE"
      ]
    },
    {
      "cell_type": "markdown",
      "source": [
        "##2. Load data"
      ],
      "metadata": {
        "id": "uZQ9aSZRzPtM"
      }
    },
    {
      "cell_type": "code",
      "execution_count": null,
      "metadata": {
        "id": "CKrMY41c_0xv"
      },
      "outputs": [],
      "source": [
        "##Load data\n",
        "df1 = pd.read_csv(\"creditcard.csv\")\n",
        "df = pd.DataFrame(df1)"
      ]
    },
    {
      "cell_type": "code",
      "execution_count": null,
      "metadata": {
        "colab": {
          "base_uri": "https://localhost:8080/",
          "height": 487
        },
        "id": "lppKsK-uBbFQ",
        "outputId": "210ea835-575e-41e4-c2eb-e69bf13fd62e"
      },
      "outputs": [
        {
          "output_type": "execute_result",
          "data": {
            "text/plain": [
              "            Time         V1         V2        V3        V4        V5  \\\n",
              "0            0.0  -1.359807  -0.072781  2.536347  1.378155 -0.338321   \n",
              "1            0.0   1.191857   0.266151  0.166480  0.448154  0.060018   \n",
              "2            1.0  -1.358354  -1.340163  1.773209  0.379780 -0.503198   \n",
              "3            1.0  -0.966272  -0.185226  1.792993 -0.863291 -0.010309   \n",
              "4            2.0  -1.158233   0.877737  1.548718  0.403034 -0.407193   \n",
              "...          ...        ...        ...       ...       ...       ...   \n",
              "284802  172786.0 -11.881118  10.071785 -9.834783 -2.066656 -5.364473   \n",
              "284803  172787.0  -0.732789  -0.055080  2.035030 -0.738589  0.868229   \n",
              "284804  172788.0   1.919565  -0.301254 -3.249640 -0.557828  2.630515   \n",
              "284805  172788.0  -0.240440   0.530483  0.702510  0.689799 -0.377961   \n",
              "284806  172792.0  -0.533413  -0.189733  0.703337 -0.506271 -0.012546   \n",
              "\n",
              "              V6        V7        V8        V9  ...       V21       V22  \\\n",
              "0       0.462388  0.239599  0.098698  0.363787  ... -0.018307  0.277838   \n",
              "1      -0.082361 -0.078803  0.085102 -0.255425  ... -0.225775 -0.638672   \n",
              "2       1.800499  0.791461  0.247676 -1.514654  ...  0.247998  0.771679   \n",
              "3       1.247203  0.237609  0.377436 -1.387024  ... -0.108300  0.005274   \n",
              "4       0.095921  0.592941 -0.270533  0.817739  ... -0.009431  0.798278   \n",
              "...          ...       ...       ...       ...  ...       ...       ...   \n",
              "284802 -2.606837 -4.918215  7.305334  1.914428  ...  0.213454  0.111864   \n",
              "284803  1.058415  0.024330  0.294869  0.584800  ...  0.214205  0.924384   \n",
              "284804  3.031260 -0.296827  0.708417  0.432454  ...  0.232045  0.578229   \n",
              "284805  0.623708 -0.686180  0.679145  0.392087  ...  0.265245  0.800049   \n",
              "284806 -0.649617  1.577006 -0.414650  0.486180  ...  0.261057  0.643078   \n",
              "\n",
              "             V23       V24       V25       V26       V27       V28  Amount  \\\n",
              "0      -0.110474  0.066928  0.128539 -0.189115  0.133558 -0.021053  149.62   \n",
              "1       0.101288 -0.339846  0.167170  0.125895 -0.008983  0.014724    2.69   \n",
              "2       0.909412 -0.689281 -0.327642 -0.139097 -0.055353 -0.059752  378.66   \n",
              "3      -0.190321 -1.175575  0.647376 -0.221929  0.062723  0.061458  123.50   \n",
              "4      -0.137458  0.141267 -0.206010  0.502292  0.219422  0.215153   69.99   \n",
              "...          ...       ...       ...       ...       ...       ...     ...   \n",
              "284802  1.014480 -0.509348  1.436807  0.250034  0.943651  0.823731    0.77   \n",
              "284803  0.012463 -1.016226 -0.606624 -0.395255  0.068472 -0.053527   24.79   \n",
              "284804 -0.037501  0.640134  0.265745 -0.087371  0.004455 -0.026561   67.88   \n",
              "284805 -0.163298  0.123205 -0.569159  0.546668  0.108821  0.104533   10.00   \n",
              "284806  0.376777  0.008797 -0.473649 -0.818267 -0.002415  0.013649  217.00   \n",
              "\n",
              "        Class  \n",
              "0           0  \n",
              "1           0  \n",
              "2           0  \n",
              "3           0  \n",
              "4           0  \n",
              "...       ...  \n",
              "284802      0  \n",
              "284803      0  \n",
              "284804      0  \n",
              "284805      0  \n",
              "284806      0  \n",
              "\n",
              "[284807 rows x 31 columns]"
            ],
            "text/html": [
              "\n",
              "  <div id=\"df-4c49930d-dd05-4682-b159-f625ec9a04fd\">\n",
              "    <div class=\"colab-df-container\">\n",
              "      <div>\n",
              "<style scoped>\n",
              "    .dataframe tbody tr th:only-of-type {\n",
              "        vertical-align: middle;\n",
              "    }\n",
              "\n",
              "    .dataframe tbody tr th {\n",
              "        vertical-align: top;\n",
              "    }\n",
              "\n",
              "    .dataframe thead th {\n",
              "        text-align: right;\n",
              "    }\n",
              "</style>\n",
              "<table border=\"1\" class=\"dataframe\">\n",
              "  <thead>\n",
              "    <tr style=\"text-align: right;\">\n",
              "      <th></th>\n",
              "      <th>Time</th>\n",
              "      <th>V1</th>\n",
              "      <th>V2</th>\n",
              "      <th>V3</th>\n",
              "      <th>V4</th>\n",
              "      <th>V5</th>\n",
              "      <th>V6</th>\n",
              "      <th>V7</th>\n",
              "      <th>V8</th>\n",
              "      <th>V9</th>\n",
              "      <th>...</th>\n",
              "      <th>V21</th>\n",
              "      <th>V22</th>\n",
              "      <th>V23</th>\n",
              "      <th>V24</th>\n",
              "      <th>V25</th>\n",
              "      <th>V26</th>\n",
              "      <th>V27</th>\n",
              "      <th>V28</th>\n",
              "      <th>Amount</th>\n",
              "      <th>Class</th>\n",
              "    </tr>\n",
              "  </thead>\n",
              "  <tbody>\n",
              "    <tr>\n",
              "      <th>0</th>\n",
              "      <td>0.0</td>\n",
              "      <td>-1.359807</td>\n",
              "      <td>-0.072781</td>\n",
              "      <td>2.536347</td>\n",
              "      <td>1.378155</td>\n",
              "      <td>-0.338321</td>\n",
              "      <td>0.462388</td>\n",
              "      <td>0.239599</td>\n",
              "      <td>0.098698</td>\n",
              "      <td>0.363787</td>\n",
              "      <td>...</td>\n",
              "      <td>-0.018307</td>\n",
              "      <td>0.277838</td>\n",
              "      <td>-0.110474</td>\n",
              "      <td>0.066928</td>\n",
              "      <td>0.128539</td>\n",
              "      <td>-0.189115</td>\n",
              "      <td>0.133558</td>\n",
              "      <td>-0.021053</td>\n",
              "      <td>149.62</td>\n",
              "      <td>0</td>\n",
              "    </tr>\n",
              "    <tr>\n",
              "      <th>1</th>\n",
              "      <td>0.0</td>\n",
              "      <td>1.191857</td>\n",
              "      <td>0.266151</td>\n",
              "      <td>0.166480</td>\n",
              "      <td>0.448154</td>\n",
              "      <td>0.060018</td>\n",
              "      <td>-0.082361</td>\n",
              "      <td>-0.078803</td>\n",
              "      <td>0.085102</td>\n",
              "      <td>-0.255425</td>\n",
              "      <td>...</td>\n",
              "      <td>-0.225775</td>\n",
              "      <td>-0.638672</td>\n",
              "      <td>0.101288</td>\n",
              "      <td>-0.339846</td>\n",
              "      <td>0.167170</td>\n",
              "      <td>0.125895</td>\n",
              "      <td>-0.008983</td>\n",
              "      <td>0.014724</td>\n",
              "      <td>2.69</td>\n",
              "      <td>0</td>\n",
              "    </tr>\n",
              "    <tr>\n",
              "      <th>2</th>\n",
              "      <td>1.0</td>\n",
              "      <td>-1.358354</td>\n",
              "      <td>-1.340163</td>\n",
              "      <td>1.773209</td>\n",
              "      <td>0.379780</td>\n",
              "      <td>-0.503198</td>\n",
              "      <td>1.800499</td>\n",
              "      <td>0.791461</td>\n",
              "      <td>0.247676</td>\n",
              "      <td>-1.514654</td>\n",
              "      <td>...</td>\n",
              "      <td>0.247998</td>\n",
              "      <td>0.771679</td>\n",
              "      <td>0.909412</td>\n",
              "      <td>-0.689281</td>\n",
              "      <td>-0.327642</td>\n",
              "      <td>-0.139097</td>\n",
              "      <td>-0.055353</td>\n",
              "      <td>-0.059752</td>\n",
              "      <td>378.66</td>\n",
              "      <td>0</td>\n",
              "    </tr>\n",
              "    <tr>\n",
              "      <th>3</th>\n",
              "      <td>1.0</td>\n",
              "      <td>-0.966272</td>\n",
              "      <td>-0.185226</td>\n",
              "      <td>1.792993</td>\n",
              "      <td>-0.863291</td>\n",
              "      <td>-0.010309</td>\n",
              "      <td>1.247203</td>\n",
              "      <td>0.237609</td>\n",
              "      <td>0.377436</td>\n",
              "      <td>-1.387024</td>\n",
              "      <td>...</td>\n",
              "      <td>-0.108300</td>\n",
              "      <td>0.005274</td>\n",
              "      <td>-0.190321</td>\n",
              "      <td>-1.175575</td>\n",
              "      <td>0.647376</td>\n",
              "      <td>-0.221929</td>\n",
              "      <td>0.062723</td>\n",
              "      <td>0.061458</td>\n",
              "      <td>123.50</td>\n",
              "      <td>0</td>\n",
              "    </tr>\n",
              "    <tr>\n",
              "      <th>4</th>\n",
              "      <td>2.0</td>\n",
              "      <td>-1.158233</td>\n",
              "      <td>0.877737</td>\n",
              "      <td>1.548718</td>\n",
              "      <td>0.403034</td>\n",
              "      <td>-0.407193</td>\n",
              "      <td>0.095921</td>\n",
              "      <td>0.592941</td>\n",
              "      <td>-0.270533</td>\n",
              "      <td>0.817739</td>\n",
              "      <td>...</td>\n",
              "      <td>-0.009431</td>\n",
              "      <td>0.798278</td>\n",
              "      <td>-0.137458</td>\n",
              "      <td>0.141267</td>\n",
              "      <td>-0.206010</td>\n",
              "      <td>0.502292</td>\n",
              "      <td>0.219422</td>\n",
              "      <td>0.215153</td>\n",
              "      <td>69.99</td>\n",
              "      <td>0</td>\n",
              "    </tr>\n",
              "    <tr>\n",
              "      <th>...</th>\n",
              "      <td>...</td>\n",
              "      <td>...</td>\n",
              "      <td>...</td>\n",
              "      <td>...</td>\n",
              "      <td>...</td>\n",
              "      <td>...</td>\n",
              "      <td>...</td>\n",
              "      <td>...</td>\n",
              "      <td>...</td>\n",
              "      <td>...</td>\n",
              "      <td>...</td>\n",
              "      <td>...</td>\n",
              "      <td>...</td>\n",
              "      <td>...</td>\n",
              "      <td>...</td>\n",
              "      <td>...</td>\n",
              "      <td>...</td>\n",
              "      <td>...</td>\n",
              "      <td>...</td>\n",
              "      <td>...</td>\n",
              "      <td>...</td>\n",
              "    </tr>\n",
              "    <tr>\n",
              "      <th>284802</th>\n",
              "      <td>172786.0</td>\n",
              "      <td>-11.881118</td>\n",
              "      <td>10.071785</td>\n",
              "      <td>-9.834783</td>\n",
              "      <td>-2.066656</td>\n",
              "      <td>-5.364473</td>\n",
              "      <td>-2.606837</td>\n",
              "      <td>-4.918215</td>\n",
              "      <td>7.305334</td>\n",
              "      <td>1.914428</td>\n",
              "      <td>...</td>\n",
              "      <td>0.213454</td>\n",
              "      <td>0.111864</td>\n",
              "      <td>1.014480</td>\n",
              "      <td>-0.509348</td>\n",
              "      <td>1.436807</td>\n",
              "      <td>0.250034</td>\n",
              "      <td>0.943651</td>\n",
              "      <td>0.823731</td>\n",
              "      <td>0.77</td>\n",
              "      <td>0</td>\n",
              "    </tr>\n",
              "    <tr>\n",
              "      <th>284803</th>\n",
              "      <td>172787.0</td>\n",
              "      <td>-0.732789</td>\n",
              "      <td>-0.055080</td>\n",
              "      <td>2.035030</td>\n",
              "      <td>-0.738589</td>\n",
              "      <td>0.868229</td>\n",
              "      <td>1.058415</td>\n",
              "      <td>0.024330</td>\n",
              "      <td>0.294869</td>\n",
              "      <td>0.584800</td>\n",
              "      <td>...</td>\n",
              "      <td>0.214205</td>\n",
              "      <td>0.924384</td>\n",
              "      <td>0.012463</td>\n",
              "      <td>-1.016226</td>\n",
              "      <td>-0.606624</td>\n",
              "      <td>-0.395255</td>\n",
              "      <td>0.068472</td>\n",
              "      <td>-0.053527</td>\n",
              "      <td>24.79</td>\n",
              "      <td>0</td>\n",
              "    </tr>\n",
              "    <tr>\n",
              "      <th>284804</th>\n",
              "      <td>172788.0</td>\n",
              "      <td>1.919565</td>\n",
              "      <td>-0.301254</td>\n",
              "      <td>-3.249640</td>\n",
              "      <td>-0.557828</td>\n",
              "      <td>2.630515</td>\n",
              "      <td>3.031260</td>\n",
              "      <td>-0.296827</td>\n",
              "      <td>0.708417</td>\n",
              "      <td>0.432454</td>\n",
              "      <td>...</td>\n",
              "      <td>0.232045</td>\n",
              "      <td>0.578229</td>\n",
              "      <td>-0.037501</td>\n",
              "      <td>0.640134</td>\n",
              "      <td>0.265745</td>\n",
              "      <td>-0.087371</td>\n",
              "      <td>0.004455</td>\n",
              "      <td>-0.026561</td>\n",
              "      <td>67.88</td>\n",
              "      <td>0</td>\n",
              "    </tr>\n",
              "    <tr>\n",
              "      <th>284805</th>\n",
              "      <td>172788.0</td>\n",
              "      <td>-0.240440</td>\n",
              "      <td>0.530483</td>\n",
              "      <td>0.702510</td>\n",
              "      <td>0.689799</td>\n",
              "      <td>-0.377961</td>\n",
              "      <td>0.623708</td>\n",
              "      <td>-0.686180</td>\n",
              "      <td>0.679145</td>\n",
              "      <td>0.392087</td>\n",
              "      <td>...</td>\n",
              "      <td>0.265245</td>\n",
              "      <td>0.800049</td>\n",
              "      <td>-0.163298</td>\n",
              "      <td>0.123205</td>\n",
              "      <td>-0.569159</td>\n",
              "      <td>0.546668</td>\n",
              "      <td>0.108821</td>\n",
              "      <td>0.104533</td>\n",
              "      <td>10.00</td>\n",
              "      <td>0</td>\n",
              "    </tr>\n",
              "    <tr>\n",
              "      <th>284806</th>\n",
              "      <td>172792.0</td>\n",
              "      <td>-0.533413</td>\n",
              "      <td>-0.189733</td>\n",
              "      <td>0.703337</td>\n",
              "      <td>-0.506271</td>\n",
              "      <td>-0.012546</td>\n",
              "      <td>-0.649617</td>\n",
              "      <td>1.577006</td>\n",
              "      <td>-0.414650</td>\n",
              "      <td>0.486180</td>\n",
              "      <td>...</td>\n",
              "      <td>0.261057</td>\n",
              "      <td>0.643078</td>\n",
              "      <td>0.376777</td>\n",
              "      <td>0.008797</td>\n",
              "      <td>-0.473649</td>\n",
              "      <td>-0.818267</td>\n",
              "      <td>-0.002415</td>\n",
              "      <td>0.013649</td>\n",
              "      <td>217.00</td>\n",
              "      <td>0</td>\n",
              "    </tr>\n",
              "  </tbody>\n",
              "</table>\n",
              "<p>284807 rows × 31 columns</p>\n",
              "</div>\n",
              "      <button class=\"colab-df-convert\" onclick=\"convertToInteractive('df-4c49930d-dd05-4682-b159-f625ec9a04fd')\"\n",
              "              title=\"Convert this dataframe to an interactive table.\"\n",
              "              style=\"display:none;\">\n",
              "        \n",
              "  <svg xmlns=\"http://www.w3.org/2000/svg\" height=\"24px\"viewBox=\"0 0 24 24\"\n",
              "       width=\"24px\">\n",
              "    <path d=\"M0 0h24v24H0V0z\" fill=\"none\"/>\n",
              "    <path d=\"M18.56 5.44l.94 2.06.94-2.06 2.06-.94-2.06-.94-.94-2.06-.94 2.06-2.06.94zm-11 1L8.5 8.5l.94-2.06 2.06-.94-2.06-.94L8.5 2.5l-.94 2.06-2.06.94zm10 10l.94 2.06.94-2.06 2.06-.94-2.06-.94-.94-2.06-.94 2.06-2.06.94z\"/><path d=\"M17.41 7.96l-1.37-1.37c-.4-.4-.92-.59-1.43-.59-.52 0-1.04.2-1.43.59L10.3 9.45l-7.72 7.72c-.78.78-.78 2.05 0 2.83L4 21.41c.39.39.9.59 1.41.59.51 0 1.02-.2 1.41-.59l7.78-7.78 2.81-2.81c.8-.78.8-2.07 0-2.86zM5.41 20L4 18.59l7.72-7.72 1.47 1.35L5.41 20z\"/>\n",
              "  </svg>\n",
              "      </button>\n",
              "      \n",
              "  <style>\n",
              "    .colab-df-container {\n",
              "      display:flex;\n",
              "      flex-wrap:wrap;\n",
              "      gap: 12px;\n",
              "    }\n",
              "\n",
              "    .colab-df-convert {\n",
              "      background-color: #E8F0FE;\n",
              "      border: none;\n",
              "      border-radius: 50%;\n",
              "      cursor: pointer;\n",
              "      display: none;\n",
              "      fill: #1967D2;\n",
              "      height: 32px;\n",
              "      padding: 0 0 0 0;\n",
              "      width: 32px;\n",
              "    }\n",
              "\n",
              "    .colab-df-convert:hover {\n",
              "      background-color: #E2EBFA;\n",
              "      box-shadow: 0px 1px 2px rgba(60, 64, 67, 0.3), 0px 1px 3px 1px rgba(60, 64, 67, 0.15);\n",
              "      fill: #174EA6;\n",
              "    }\n",
              "\n",
              "    [theme=dark] .colab-df-convert {\n",
              "      background-color: #3B4455;\n",
              "      fill: #D2E3FC;\n",
              "    }\n",
              "\n",
              "    [theme=dark] .colab-df-convert:hover {\n",
              "      background-color: #434B5C;\n",
              "      box-shadow: 0px 1px 3px 1px rgba(0, 0, 0, 0.15);\n",
              "      filter: drop-shadow(0px 1px 2px rgba(0, 0, 0, 0.3));\n",
              "      fill: #FFFFFF;\n",
              "    }\n",
              "  </style>\n",
              "\n",
              "      <script>\n",
              "        const buttonEl =\n",
              "          document.querySelector('#df-4c49930d-dd05-4682-b159-f625ec9a04fd button.colab-df-convert');\n",
              "        buttonEl.style.display =\n",
              "          google.colab.kernel.accessAllowed ? 'block' : 'none';\n",
              "\n",
              "        async function convertToInteractive(key) {\n",
              "          const element = document.querySelector('#df-4c49930d-dd05-4682-b159-f625ec9a04fd');\n",
              "          const dataTable =\n",
              "            await google.colab.kernel.invokeFunction('convertToInteractive',\n",
              "                                                     [key], {});\n",
              "          if (!dataTable) return;\n",
              "\n",
              "          const docLinkHtml = 'Like what you see? Visit the ' +\n",
              "            '<a target=\"_blank\" href=https://colab.research.google.com/notebooks/data_table.ipynb>data table notebook</a>'\n",
              "            + ' to learn more about interactive tables.';\n",
              "          element.innerHTML = '';\n",
              "          dataTable['output_type'] = 'display_data';\n",
              "          await google.colab.output.renderOutput(dataTable, element);\n",
              "          const docLink = document.createElement('div');\n",
              "          docLink.innerHTML = docLinkHtml;\n",
              "          element.appendChild(docLink);\n",
              "        }\n",
              "      </script>\n",
              "    </div>\n",
              "  </div>\n",
              "  "
            ]
          },
          "metadata": {},
          "execution_count": 4
        }
      ],
      "source": [
        "df"
      ]
    },
    {
      "cell_type": "markdown",
      "source": [
        "##3. Exploratory Data Analysis"
      ],
      "metadata": {
        "id": "-Wqq5lCdz5VQ"
      }
    },
    {
      "cell_type": "code",
      "execution_count": null,
      "metadata": {
        "colab": {
          "base_uri": "https://localhost:8080/",
          "height": 235
        },
        "id": "qaUD5cB9T4rE",
        "outputId": "9df59872-d1ab-490d-b0ca-bfd084e7dd27"
      },
      "outputs": [
        {
          "output_type": "execute_result",
          "data": {
            "text/plain": [
              "   Time        V1        V2        V3        V4        V5        V6        V7  \\\n",
              "0   0.0 -1.359807 -0.072781  2.536347  1.378155 -0.338321  0.462388  0.239599   \n",
              "1   0.0  1.191857  0.266151  0.166480  0.448154  0.060018 -0.082361 -0.078803   \n",
              "2   1.0 -1.358354 -1.340163  1.773209  0.379780 -0.503198  1.800499  0.791461   \n",
              "3   1.0 -0.966272 -0.185226  1.792993 -0.863291 -0.010309  1.247203  0.237609   \n",
              "4   2.0 -1.158233  0.877737  1.548718  0.403034 -0.407193  0.095921  0.592941   \n",
              "\n",
              "         V8        V9  ...       V21       V22       V23       V24       V25  \\\n",
              "0  0.098698  0.363787  ... -0.018307  0.277838 -0.110474  0.066928  0.128539   \n",
              "1  0.085102 -0.255425  ... -0.225775 -0.638672  0.101288 -0.339846  0.167170   \n",
              "2  0.247676 -1.514654  ...  0.247998  0.771679  0.909412 -0.689281 -0.327642   \n",
              "3  0.377436 -1.387024  ... -0.108300  0.005274 -0.190321 -1.175575  0.647376   \n",
              "4 -0.270533  0.817739  ... -0.009431  0.798278 -0.137458  0.141267 -0.206010   \n",
              "\n",
              "        V26       V27       V28  Amount  Class  \n",
              "0 -0.189115  0.133558 -0.021053  149.62      0  \n",
              "1  0.125895 -0.008983  0.014724    2.69      0  \n",
              "2 -0.139097 -0.055353 -0.059752  378.66      0  \n",
              "3 -0.221929  0.062723  0.061458  123.50      0  \n",
              "4  0.502292  0.219422  0.215153   69.99      0  \n",
              "\n",
              "[5 rows x 31 columns]"
            ],
            "text/html": [
              "\n",
              "  <div id=\"df-d3d40fe6-0266-4dfd-baf8-467759c23e0a\">\n",
              "    <div class=\"colab-df-container\">\n",
              "      <div>\n",
              "<style scoped>\n",
              "    .dataframe tbody tr th:only-of-type {\n",
              "        vertical-align: middle;\n",
              "    }\n",
              "\n",
              "    .dataframe tbody tr th {\n",
              "        vertical-align: top;\n",
              "    }\n",
              "\n",
              "    .dataframe thead th {\n",
              "        text-align: right;\n",
              "    }\n",
              "</style>\n",
              "<table border=\"1\" class=\"dataframe\">\n",
              "  <thead>\n",
              "    <tr style=\"text-align: right;\">\n",
              "      <th></th>\n",
              "      <th>Time</th>\n",
              "      <th>V1</th>\n",
              "      <th>V2</th>\n",
              "      <th>V3</th>\n",
              "      <th>V4</th>\n",
              "      <th>V5</th>\n",
              "      <th>V6</th>\n",
              "      <th>V7</th>\n",
              "      <th>V8</th>\n",
              "      <th>V9</th>\n",
              "      <th>...</th>\n",
              "      <th>V21</th>\n",
              "      <th>V22</th>\n",
              "      <th>V23</th>\n",
              "      <th>V24</th>\n",
              "      <th>V25</th>\n",
              "      <th>V26</th>\n",
              "      <th>V27</th>\n",
              "      <th>V28</th>\n",
              "      <th>Amount</th>\n",
              "      <th>Class</th>\n",
              "    </tr>\n",
              "  </thead>\n",
              "  <tbody>\n",
              "    <tr>\n",
              "      <th>0</th>\n",
              "      <td>0.0</td>\n",
              "      <td>-1.359807</td>\n",
              "      <td>-0.072781</td>\n",
              "      <td>2.536347</td>\n",
              "      <td>1.378155</td>\n",
              "      <td>-0.338321</td>\n",
              "      <td>0.462388</td>\n",
              "      <td>0.239599</td>\n",
              "      <td>0.098698</td>\n",
              "      <td>0.363787</td>\n",
              "      <td>...</td>\n",
              "      <td>-0.018307</td>\n",
              "      <td>0.277838</td>\n",
              "      <td>-0.110474</td>\n",
              "      <td>0.066928</td>\n",
              "      <td>0.128539</td>\n",
              "      <td>-0.189115</td>\n",
              "      <td>0.133558</td>\n",
              "      <td>-0.021053</td>\n",
              "      <td>149.62</td>\n",
              "      <td>0</td>\n",
              "    </tr>\n",
              "    <tr>\n",
              "      <th>1</th>\n",
              "      <td>0.0</td>\n",
              "      <td>1.191857</td>\n",
              "      <td>0.266151</td>\n",
              "      <td>0.166480</td>\n",
              "      <td>0.448154</td>\n",
              "      <td>0.060018</td>\n",
              "      <td>-0.082361</td>\n",
              "      <td>-0.078803</td>\n",
              "      <td>0.085102</td>\n",
              "      <td>-0.255425</td>\n",
              "      <td>...</td>\n",
              "      <td>-0.225775</td>\n",
              "      <td>-0.638672</td>\n",
              "      <td>0.101288</td>\n",
              "      <td>-0.339846</td>\n",
              "      <td>0.167170</td>\n",
              "      <td>0.125895</td>\n",
              "      <td>-0.008983</td>\n",
              "      <td>0.014724</td>\n",
              "      <td>2.69</td>\n",
              "      <td>0</td>\n",
              "    </tr>\n",
              "    <tr>\n",
              "      <th>2</th>\n",
              "      <td>1.0</td>\n",
              "      <td>-1.358354</td>\n",
              "      <td>-1.340163</td>\n",
              "      <td>1.773209</td>\n",
              "      <td>0.379780</td>\n",
              "      <td>-0.503198</td>\n",
              "      <td>1.800499</td>\n",
              "      <td>0.791461</td>\n",
              "      <td>0.247676</td>\n",
              "      <td>-1.514654</td>\n",
              "      <td>...</td>\n",
              "      <td>0.247998</td>\n",
              "      <td>0.771679</td>\n",
              "      <td>0.909412</td>\n",
              "      <td>-0.689281</td>\n",
              "      <td>-0.327642</td>\n",
              "      <td>-0.139097</td>\n",
              "      <td>-0.055353</td>\n",
              "      <td>-0.059752</td>\n",
              "      <td>378.66</td>\n",
              "      <td>0</td>\n",
              "    </tr>\n",
              "    <tr>\n",
              "      <th>3</th>\n",
              "      <td>1.0</td>\n",
              "      <td>-0.966272</td>\n",
              "      <td>-0.185226</td>\n",
              "      <td>1.792993</td>\n",
              "      <td>-0.863291</td>\n",
              "      <td>-0.010309</td>\n",
              "      <td>1.247203</td>\n",
              "      <td>0.237609</td>\n",
              "      <td>0.377436</td>\n",
              "      <td>-1.387024</td>\n",
              "      <td>...</td>\n",
              "      <td>-0.108300</td>\n",
              "      <td>0.005274</td>\n",
              "      <td>-0.190321</td>\n",
              "      <td>-1.175575</td>\n",
              "      <td>0.647376</td>\n",
              "      <td>-0.221929</td>\n",
              "      <td>0.062723</td>\n",
              "      <td>0.061458</td>\n",
              "      <td>123.50</td>\n",
              "      <td>0</td>\n",
              "    </tr>\n",
              "    <tr>\n",
              "      <th>4</th>\n",
              "      <td>2.0</td>\n",
              "      <td>-1.158233</td>\n",
              "      <td>0.877737</td>\n",
              "      <td>1.548718</td>\n",
              "      <td>0.403034</td>\n",
              "      <td>-0.407193</td>\n",
              "      <td>0.095921</td>\n",
              "      <td>0.592941</td>\n",
              "      <td>-0.270533</td>\n",
              "      <td>0.817739</td>\n",
              "      <td>...</td>\n",
              "      <td>-0.009431</td>\n",
              "      <td>0.798278</td>\n",
              "      <td>-0.137458</td>\n",
              "      <td>0.141267</td>\n",
              "      <td>-0.206010</td>\n",
              "      <td>0.502292</td>\n",
              "      <td>0.219422</td>\n",
              "      <td>0.215153</td>\n",
              "      <td>69.99</td>\n",
              "      <td>0</td>\n",
              "    </tr>\n",
              "  </tbody>\n",
              "</table>\n",
              "<p>5 rows × 31 columns</p>\n",
              "</div>\n",
              "      <button class=\"colab-df-convert\" onclick=\"convertToInteractive('df-d3d40fe6-0266-4dfd-baf8-467759c23e0a')\"\n",
              "              title=\"Convert this dataframe to an interactive table.\"\n",
              "              style=\"display:none;\">\n",
              "        \n",
              "  <svg xmlns=\"http://www.w3.org/2000/svg\" height=\"24px\"viewBox=\"0 0 24 24\"\n",
              "       width=\"24px\">\n",
              "    <path d=\"M0 0h24v24H0V0z\" fill=\"none\"/>\n",
              "    <path d=\"M18.56 5.44l.94 2.06.94-2.06 2.06-.94-2.06-.94-.94-2.06-.94 2.06-2.06.94zm-11 1L8.5 8.5l.94-2.06 2.06-.94-2.06-.94L8.5 2.5l-.94 2.06-2.06.94zm10 10l.94 2.06.94-2.06 2.06-.94-2.06-.94-.94-2.06-.94 2.06-2.06.94z\"/><path d=\"M17.41 7.96l-1.37-1.37c-.4-.4-.92-.59-1.43-.59-.52 0-1.04.2-1.43.59L10.3 9.45l-7.72 7.72c-.78.78-.78 2.05 0 2.83L4 21.41c.39.39.9.59 1.41.59.51 0 1.02-.2 1.41-.59l7.78-7.78 2.81-2.81c.8-.78.8-2.07 0-2.86zM5.41 20L4 18.59l7.72-7.72 1.47 1.35L5.41 20z\"/>\n",
              "  </svg>\n",
              "      </button>\n",
              "      \n",
              "  <style>\n",
              "    .colab-df-container {\n",
              "      display:flex;\n",
              "      flex-wrap:wrap;\n",
              "      gap: 12px;\n",
              "    }\n",
              "\n",
              "    .colab-df-convert {\n",
              "      background-color: #E8F0FE;\n",
              "      border: none;\n",
              "      border-radius: 50%;\n",
              "      cursor: pointer;\n",
              "      display: none;\n",
              "      fill: #1967D2;\n",
              "      height: 32px;\n",
              "      padding: 0 0 0 0;\n",
              "      width: 32px;\n",
              "    }\n",
              "\n",
              "    .colab-df-convert:hover {\n",
              "      background-color: #E2EBFA;\n",
              "      box-shadow: 0px 1px 2px rgba(60, 64, 67, 0.3), 0px 1px 3px 1px rgba(60, 64, 67, 0.15);\n",
              "      fill: #174EA6;\n",
              "    }\n",
              "\n",
              "    [theme=dark] .colab-df-convert {\n",
              "      background-color: #3B4455;\n",
              "      fill: #D2E3FC;\n",
              "    }\n",
              "\n",
              "    [theme=dark] .colab-df-convert:hover {\n",
              "      background-color: #434B5C;\n",
              "      box-shadow: 0px 1px 3px 1px rgba(0, 0, 0, 0.15);\n",
              "      filter: drop-shadow(0px 1px 2px rgba(0, 0, 0, 0.3));\n",
              "      fill: #FFFFFF;\n",
              "    }\n",
              "  </style>\n",
              "\n",
              "      <script>\n",
              "        const buttonEl =\n",
              "          document.querySelector('#df-d3d40fe6-0266-4dfd-baf8-467759c23e0a button.colab-df-convert');\n",
              "        buttonEl.style.display =\n",
              "          google.colab.kernel.accessAllowed ? 'block' : 'none';\n",
              "\n",
              "        async function convertToInteractive(key) {\n",
              "          const element = document.querySelector('#df-d3d40fe6-0266-4dfd-baf8-467759c23e0a');\n",
              "          const dataTable =\n",
              "            await google.colab.kernel.invokeFunction('convertToInteractive',\n",
              "                                                     [key], {});\n",
              "          if (!dataTable) return;\n",
              "\n",
              "          const docLinkHtml = 'Like what you see? Visit the ' +\n",
              "            '<a target=\"_blank\" href=https://colab.research.google.com/notebooks/data_table.ipynb>data table notebook</a>'\n",
              "            + ' to learn more about interactive tables.';\n",
              "          element.innerHTML = '';\n",
              "          dataTable['output_type'] = 'display_data';\n",
              "          await google.colab.output.renderOutput(dataTable, element);\n",
              "          const docLink = document.createElement('div');\n",
              "          docLink.innerHTML = docLinkHtml;\n",
              "          element.appendChild(docLink);\n",
              "        }\n",
              "      </script>\n",
              "    </div>\n",
              "  </div>\n",
              "  "
            ]
          },
          "metadata": {},
          "execution_count": 5
        }
      ],
      "source": [
        "df.head()"
      ]
    },
    {
      "cell_type": "code",
      "execution_count": null,
      "metadata": {
        "colab": {
          "base_uri": "https://localhost:8080/",
          "height": 299
        },
        "id": "UR0T6aAFB9Mx",
        "outputId": "3c9127af-3545-44fb-8e66-d66f3df85fba"
      },
      "outputs": [
        {
          "output_type": "execute_result",
          "data": {
            "text/plain": [
              "            Time         V1         V2        V3        V4        V5  \\\n",
              "284802  172786.0 -11.881118  10.071785 -9.834783 -2.066656 -5.364473   \n",
              "284803  172787.0  -0.732789  -0.055080  2.035030 -0.738589  0.868229   \n",
              "284804  172788.0   1.919565  -0.301254 -3.249640 -0.557828  2.630515   \n",
              "284805  172788.0  -0.240440   0.530483  0.702510  0.689799 -0.377961   \n",
              "284806  172792.0  -0.533413  -0.189733  0.703337 -0.506271 -0.012546   \n",
              "\n",
              "              V6        V7        V8        V9  ...       V21       V22  \\\n",
              "284802 -2.606837 -4.918215  7.305334  1.914428  ...  0.213454  0.111864   \n",
              "284803  1.058415  0.024330  0.294869  0.584800  ...  0.214205  0.924384   \n",
              "284804  3.031260 -0.296827  0.708417  0.432454  ...  0.232045  0.578229   \n",
              "284805  0.623708 -0.686180  0.679145  0.392087  ...  0.265245  0.800049   \n",
              "284806 -0.649617  1.577006 -0.414650  0.486180  ...  0.261057  0.643078   \n",
              "\n",
              "             V23       V24       V25       V26       V27       V28  Amount  \\\n",
              "284802  1.014480 -0.509348  1.436807  0.250034  0.943651  0.823731    0.77   \n",
              "284803  0.012463 -1.016226 -0.606624 -0.395255  0.068472 -0.053527   24.79   \n",
              "284804 -0.037501  0.640134  0.265745 -0.087371  0.004455 -0.026561   67.88   \n",
              "284805 -0.163298  0.123205 -0.569159  0.546668  0.108821  0.104533   10.00   \n",
              "284806  0.376777  0.008797 -0.473649 -0.818267 -0.002415  0.013649  217.00   \n",
              "\n",
              "        Class  \n",
              "284802      0  \n",
              "284803      0  \n",
              "284804      0  \n",
              "284805      0  \n",
              "284806      0  \n",
              "\n",
              "[5 rows x 31 columns]"
            ],
            "text/html": [
              "\n",
              "  <div id=\"df-99cb7c12-209c-4c90-a30d-b91e39324422\">\n",
              "    <div class=\"colab-df-container\">\n",
              "      <div>\n",
              "<style scoped>\n",
              "    .dataframe tbody tr th:only-of-type {\n",
              "        vertical-align: middle;\n",
              "    }\n",
              "\n",
              "    .dataframe tbody tr th {\n",
              "        vertical-align: top;\n",
              "    }\n",
              "\n",
              "    .dataframe thead th {\n",
              "        text-align: right;\n",
              "    }\n",
              "</style>\n",
              "<table border=\"1\" class=\"dataframe\">\n",
              "  <thead>\n",
              "    <tr style=\"text-align: right;\">\n",
              "      <th></th>\n",
              "      <th>Time</th>\n",
              "      <th>V1</th>\n",
              "      <th>V2</th>\n",
              "      <th>V3</th>\n",
              "      <th>V4</th>\n",
              "      <th>V5</th>\n",
              "      <th>V6</th>\n",
              "      <th>V7</th>\n",
              "      <th>V8</th>\n",
              "      <th>V9</th>\n",
              "      <th>...</th>\n",
              "      <th>V21</th>\n",
              "      <th>V22</th>\n",
              "      <th>V23</th>\n",
              "      <th>V24</th>\n",
              "      <th>V25</th>\n",
              "      <th>V26</th>\n",
              "      <th>V27</th>\n",
              "      <th>V28</th>\n",
              "      <th>Amount</th>\n",
              "      <th>Class</th>\n",
              "    </tr>\n",
              "  </thead>\n",
              "  <tbody>\n",
              "    <tr>\n",
              "      <th>284802</th>\n",
              "      <td>172786.0</td>\n",
              "      <td>-11.881118</td>\n",
              "      <td>10.071785</td>\n",
              "      <td>-9.834783</td>\n",
              "      <td>-2.066656</td>\n",
              "      <td>-5.364473</td>\n",
              "      <td>-2.606837</td>\n",
              "      <td>-4.918215</td>\n",
              "      <td>7.305334</td>\n",
              "      <td>1.914428</td>\n",
              "      <td>...</td>\n",
              "      <td>0.213454</td>\n",
              "      <td>0.111864</td>\n",
              "      <td>1.014480</td>\n",
              "      <td>-0.509348</td>\n",
              "      <td>1.436807</td>\n",
              "      <td>0.250034</td>\n",
              "      <td>0.943651</td>\n",
              "      <td>0.823731</td>\n",
              "      <td>0.77</td>\n",
              "      <td>0</td>\n",
              "    </tr>\n",
              "    <tr>\n",
              "      <th>284803</th>\n",
              "      <td>172787.0</td>\n",
              "      <td>-0.732789</td>\n",
              "      <td>-0.055080</td>\n",
              "      <td>2.035030</td>\n",
              "      <td>-0.738589</td>\n",
              "      <td>0.868229</td>\n",
              "      <td>1.058415</td>\n",
              "      <td>0.024330</td>\n",
              "      <td>0.294869</td>\n",
              "      <td>0.584800</td>\n",
              "      <td>...</td>\n",
              "      <td>0.214205</td>\n",
              "      <td>0.924384</td>\n",
              "      <td>0.012463</td>\n",
              "      <td>-1.016226</td>\n",
              "      <td>-0.606624</td>\n",
              "      <td>-0.395255</td>\n",
              "      <td>0.068472</td>\n",
              "      <td>-0.053527</td>\n",
              "      <td>24.79</td>\n",
              "      <td>0</td>\n",
              "    </tr>\n",
              "    <tr>\n",
              "      <th>284804</th>\n",
              "      <td>172788.0</td>\n",
              "      <td>1.919565</td>\n",
              "      <td>-0.301254</td>\n",
              "      <td>-3.249640</td>\n",
              "      <td>-0.557828</td>\n",
              "      <td>2.630515</td>\n",
              "      <td>3.031260</td>\n",
              "      <td>-0.296827</td>\n",
              "      <td>0.708417</td>\n",
              "      <td>0.432454</td>\n",
              "      <td>...</td>\n",
              "      <td>0.232045</td>\n",
              "      <td>0.578229</td>\n",
              "      <td>-0.037501</td>\n",
              "      <td>0.640134</td>\n",
              "      <td>0.265745</td>\n",
              "      <td>-0.087371</td>\n",
              "      <td>0.004455</td>\n",
              "      <td>-0.026561</td>\n",
              "      <td>67.88</td>\n",
              "      <td>0</td>\n",
              "    </tr>\n",
              "    <tr>\n",
              "      <th>284805</th>\n",
              "      <td>172788.0</td>\n",
              "      <td>-0.240440</td>\n",
              "      <td>0.530483</td>\n",
              "      <td>0.702510</td>\n",
              "      <td>0.689799</td>\n",
              "      <td>-0.377961</td>\n",
              "      <td>0.623708</td>\n",
              "      <td>-0.686180</td>\n",
              "      <td>0.679145</td>\n",
              "      <td>0.392087</td>\n",
              "      <td>...</td>\n",
              "      <td>0.265245</td>\n",
              "      <td>0.800049</td>\n",
              "      <td>-0.163298</td>\n",
              "      <td>0.123205</td>\n",
              "      <td>-0.569159</td>\n",
              "      <td>0.546668</td>\n",
              "      <td>0.108821</td>\n",
              "      <td>0.104533</td>\n",
              "      <td>10.00</td>\n",
              "      <td>0</td>\n",
              "    </tr>\n",
              "    <tr>\n",
              "      <th>284806</th>\n",
              "      <td>172792.0</td>\n",
              "      <td>-0.533413</td>\n",
              "      <td>-0.189733</td>\n",
              "      <td>0.703337</td>\n",
              "      <td>-0.506271</td>\n",
              "      <td>-0.012546</td>\n",
              "      <td>-0.649617</td>\n",
              "      <td>1.577006</td>\n",
              "      <td>-0.414650</td>\n",
              "      <td>0.486180</td>\n",
              "      <td>...</td>\n",
              "      <td>0.261057</td>\n",
              "      <td>0.643078</td>\n",
              "      <td>0.376777</td>\n",
              "      <td>0.008797</td>\n",
              "      <td>-0.473649</td>\n",
              "      <td>-0.818267</td>\n",
              "      <td>-0.002415</td>\n",
              "      <td>0.013649</td>\n",
              "      <td>217.00</td>\n",
              "      <td>0</td>\n",
              "    </tr>\n",
              "  </tbody>\n",
              "</table>\n",
              "<p>5 rows × 31 columns</p>\n",
              "</div>\n",
              "      <button class=\"colab-df-convert\" onclick=\"convertToInteractive('df-99cb7c12-209c-4c90-a30d-b91e39324422')\"\n",
              "              title=\"Convert this dataframe to an interactive table.\"\n",
              "              style=\"display:none;\">\n",
              "        \n",
              "  <svg xmlns=\"http://www.w3.org/2000/svg\" height=\"24px\"viewBox=\"0 0 24 24\"\n",
              "       width=\"24px\">\n",
              "    <path d=\"M0 0h24v24H0V0z\" fill=\"none\"/>\n",
              "    <path d=\"M18.56 5.44l.94 2.06.94-2.06 2.06-.94-2.06-.94-.94-2.06-.94 2.06-2.06.94zm-11 1L8.5 8.5l.94-2.06 2.06-.94-2.06-.94L8.5 2.5l-.94 2.06-2.06.94zm10 10l.94 2.06.94-2.06 2.06-.94-2.06-.94-.94-2.06-.94 2.06-2.06.94z\"/><path d=\"M17.41 7.96l-1.37-1.37c-.4-.4-.92-.59-1.43-.59-.52 0-1.04.2-1.43.59L10.3 9.45l-7.72 7.72c-.78.78-.78 2.05 0 2.83L4 21.41c.39.39.9.59 1.41.59.51 0 1.02-.2 1.41-.59l7.78-7.78 2.81-2.81c.8-.78.8-2.07 0-2.86zM5.41 20L4 18.59l7.72-7.72 1.47 1.35L5.41 20z\"/>\n",
              "  </svg>\n",
              "      </button>\n",
              "      \n",
              "  <style>\n",
              "    .colab-df-container {\n",
              "      display:flex;\n",
              "      flex-wrap:wrap;\n",
              "      gap: 12px;\n",
              "    }\n",
              "\n",
              "    .colab-df-convert {\n",
              "      background-color: #E8F0FE;\n",
              "      border: none;\n",
              "      border-radius: 50%;\n",
              "      cursor: pointer;\n",
              "      display: none;\n",
              "      fill: #1967D2;\n",
              "      height: 32px;\n",
              "      padding: 0 0 0 0;\n",
              "      width: 32px;\n",
              "    }\n",
              "\n",
              "    .colab-df-convert:hover {\n",
              "      background-color: #E2EBFA;\n",
              "      box-shadow: 0px 1px 2px rgba(60, 64, 67, 0.3), 0px 1px 3px 1px rgba(60, 64, 67, 0.15);\n",
              "      fill: #174EA6;\n",
              "    }\n",
              "\n",
              "    [theme=dark] .colab-df-convert {\n",
              "      background-color: #3B4455;\n",
              "      fill: #D2E3FC;\n",
              "    }\n",
              "\n",
              "    [theme=dark] .colab-df-convert:hover {\n",
              "      background-color: #434B5C;\n",
              "      box-shadow: 0px 1px 3px 1px rgba(0, 0, 0, 0.15);\n",
              "      filter: drop-shadow(0px 1px 2px rgba(0, 0, 0, 0.3));\n",
              "      fill: #FFFFFF;\n",
              "    }\n",
              "  </style>\n",
              "\n",
              "      <script>\n",
              "        const buttonEl =\n",
              "          document.querySelector('#df-99cb7c12-209c-4c90-a30d-b91e39324422 button.colab-df-convert');\n",
              "        buttonEl.style.display =\n",
              "          google.colab.kernel.accessAllowed ? 'block' : 'none';\n",
              "\n",
              "        async function convertToInteractive(key) {\n",
              "          const element = document.querySelector('#df-99cb7c12-209c-4c90-a30d-b91e39324422');\n",
              "          const dataTable =\n",
              "            await google.colab.kernel.invokeFunction('convertToInteractive',\n",
              "                                                     [key], {});\n",
              "          if (!dataTable) return;\n",
              "\n",
              "          const docLinkHtml = 'Like what you see? Visit the ' +\n",
              "            '<a target=\"_blank\" href=https://colab.research.google.com/notebooks/data_table.ipynb>data table notebook</a>'\n",
              "            + ' to learn more about interactive tables.';\n",
              "          element.innerHTML = '';\n",
              "          dataTable['output_type'] = 'display_data';\n",
              "          await google.colab.output.renderOutput(dataTable, element);\n",
              "          const docLink = document.createElement('div');\n",
              "          docLink.innerHTML = docLinkHtml;\n",
              "          element.appendChild(docLink);\n",
              "        }\n",
              "      </script>\n",
              "    </div>\n",
              "  </div>\n",
              "  "
            ]
          },
          "metadata": {},
          "execution_count": 6
        }
      ],
      "source": [
        "df.tail()"
      ]
    },
    {
      "cell_type": "code",
      "execution_count": null,
      "metadata": {
        "colab": {
          "base_uri": "https://localhost:8080/"
        },
        "id": "STDliz1XT8iW",
        "outputId": "9855d30d-1884-4fa5-aa6a-4c89e270f5ae"
      },
      "outputs": [
        {
          "output_type": "execute_result",
          "data": {
            "text/plain": [
              "(284807, 31)"
            ]
          },
          "metadata": {},
          "execution_count": 7
        }
      ],
      "source": [
        "df.shape"
      ]
    },
    {
      "cell_type": "code",
      "execution_count": null,
      "metadata": {
        "colab": {
          "base_uri": "https://localhost:8080/",
          "height": 393
        },
        "id": "h13SfkjcUK9B",
        "outputId": "42787509-fb04-4dd1-d633-7669d6214a39"
      },
      "outputs": [
        {
          "output_type": "execute_result",
          "data": {
            "text/plain": [
              "                Time            V1            V2            V3            V4  \\\n",
              "count  284807.000000  2.848070e+05  2.848070e+05  2.848070e+05  2.848070e+05   \n",
              "mean    94813.859575  1.759061e-12 -8.251130e-13 -9.654937e-13  8.321385e-13   \n",
              "std     47488.145955  1.958696e+00  1.651309e+00  1.516255e+00  1.415869e+00   \n",
              "min         0.000000 -5.640751e+01 -7.271573e+01 -4.832559e+01 -5.683171e+00   \n",
              "25%     54201.500000 -9.203734e-01 -5.985499e-01 -8.903648e-01 -8.486401e-01   \n",
              "50%     84692.000000  1.810880e-02  6.548556e-02  1.798463e-01 -1.984653e-02   \n",
              "75%    139320.500000  1.315642e+00  8.037239e-01  1.027196e+00  7.433413e-01   \n",
              "max    172792.000000  2.454930e+00  2.205773e+01  9.382558e+00  1.687534e+01   \n",
              "\n",
              "                 V5            V6            V7            V8            V9  \\\n",
              "count  2.848070e+05  2.848070e+05  2.848070e+05  2.848070e+05  2.848070e+05   \n",
              "mean   1.649999e-13  4.248366e-13 -3.054600e-13  8.777971e-14 -1.179749e-12   \n",
              "std    1.380247e+00  1.332271e+00  1.237094e+00  1.194353e+00  1.098632e+00   \n",
              "min   -1.137433e+02 -2.616051e+01 -4.355724e+01 -7.321672e+01 -1.343407e+01   \n",
              "25%   -6.915971e-01 -7.682956e-01 -5.540759e-01 -2.086297e-01 -6.430976e-01   \n",
              "50%   -5.433583e-02 -2.741871e-01  4.010308e-02  2.235804e-02 -5.142873e-02   \n",
              "75%    6.119264e-01  3.985649e-01  5.704361e-01  3.273459e-01  5.971390e-01   \n",
              "max    3.480167e+01  7.330163e+01  1.205895e+02  2.000721e+01  1.559499e+01   \n",
              "\n",
              "       ...           V21           V22           V23           V24  \\\n",
              "count  ...  2.848070e+05  2.848070e+05  2.848070e+05  2.848070e+05   \n",
              "mean   ... -3.405756e-13 -5.723197e-13 -9.725856e-13  1.464150e-12   \n",
              "std    ...  7.345240e-01  7.257016e-01  6.244603e-01  6.056471e-01   \n",
              "min    ... -3.483038e+01 -1.093314e+01 -4.480774e+01 -2.836627e+00   \n",
              "25%    ... -2.283949e-01 -5.423504e-01 -1.618463e-01 -3.545861e-01   \n",
              "50%    ... -2.945017e-02  6.781943e-03 -1.119293e-02  4.097606e-02   \n",
              "75%    ...  1.863772e-01  5.285536e-01  1.476421e-01  4.395266e-01   \n",
              "max    ...  2.720284e+01  1.050309e+01  2.252841e+01  4.584549e+00   \n",
              "\n",
              "                V25           V26           V27           V28         Amount  \\\n",
              "count  2.848070e+05  2.848070e+05  2.848070e+05  2.848070e+05  284807.000000   \n",
              "mean  -6.987102e-13 -5.617874e-13  3.332082e-12 -3.518874e-12      88.349619   \n",
              "std    5.212781e-01  4.822270e-01  4.036325e-01  3.300833e-01     250.120109   \n",
              "min   -1.029540e+01 -2.604551e+00 -2.256568e+01 -1.543008e+01       0.000000   \n",
              "25%   -3.171451e-01 -3.269839e-01 -7.083953e-02 -5.295979e-02       5.600000   \n",
              "50%    1.659350e-02 -5.213911e-02  1.342146e-03  1.124383e-02      22.000000   \n",
              "75%    3.507156e-01  2.409522e-01  9.104512e-02  7.827995e-02      77.165000   \n",
              "max    7.519589e+00  3.517346e+00  3.161220e+01  3.384781e+01   25691.160000   \n",
              "\n",
              "               Class  \n",
              "count  284807.000000  \n",
              "mean        0.001727  \n",
              "std         0.041527  \n",
              "min         0.000000  \n",
              "25%         0.000000  \n",
              "50%         0.000000  \n",
              "75%         0.000000  \n",
              "max         1.000000  \n",
              "\n",
              "[8 rows x 31 columns]"
            ],
            "text/html": [
              "\n",
              "  <div id=\"df-a13cd1b8-d9ee-4d4c-b2a9-9351a2644346\">\n",
              "    <div class=\"colab-df-container\">\n",
              "      <div>\n",
              "<style scoped>\n",
              "    .dataframe tbody tr th:only-of-type {\n",
              "        vertical-align: middle;\n",
              "    }\n",
              "\n",
              "    .dataframe tbody tr th {\n",
              "        vertical-align: top;\n",
              "    }\n",
              "\n",
              "    .dataframe thead th {\n",
              "        text-align: right;\n",
              "    }\n",
              "</style>\n",
              "<table border=\"1\" class=\"dataframe\">\n",
              "  <thead>\n",
              "    <tr style=\"text-align: right;\">\n",
              "      <th></th>\n",
              "      <th>Time</th>\n",
              "      <th>V1</th>\n",
              "      <th>V2</th>\n",
              "      <th>V3</th>\n",
              "      <th>V4</th>\n",
              "      <th>V5</th>\n",
              "      <th>V6</th>\n",
              "      <th>V7</th>\n",
              "      <th>V8</th>\n",
              "      <th>V9</th>\n",
              "      <th>...</th>\n",
              "      <th>V21</th>\n",
              "      <th>V22</th>\n",
              "      <th>V23</th>\n",
              "      <th>V24</th>\n",
              "      <th>V25</th>\n",
              "      <th>V26</th>\n",
              "      <th>V27</th>\n",
              "      <th>V28</th>\n",
              "      <th>Amount</th>\n",
              "      <th>Class</th>\n",
              "    </tr>\n",
              "  </thead>\n",
              "  <tbody>\n",
              "    <tr>\n",
              "      <th>count</th>\n",
              "      <td>284807.000000</td>\n",
              "      <td>2.848070e+05</td>\n",
              "      <td>2.848070e+05</td>\n",
              "      <td>2.848070e+05</td>\n",
              "      <td>2.848070e+05</td>\n",
              "      <td>2.848070e+05</td>\n",
              "      <td>2.848070e+05</td>\n",
              "      <td>2.848070e+05</td>\n",
              "      <td>2.848070e+05</td>\n",
              "      <td>2.848070e+05</td>\n",
              "      <td>...</td>\n",
              "      <td>2.848070e+05</td>\n",
              "      <td>2.848070e+05</td>\n",
              "      <td>2.848070e+05</td>\n",
              "      <td>2.848070e+05</td>\n",
              "      <td>2.848070e+05</td>\n",
              "      <td>2.848070e+05</td>\n",
              "      <td>2.848070e+05</td>\n",
              "      <td>2.848070e+05</td>\n",
              "      <td>284807.000000</td>\n",
              "      <td>284807.000000</td>\n",
              "    </tr>\n",
              "    <tr>\n",
              "      <th>mean</th>\n",
              "      <td>94813.859575</td>\n",
              "      <td>1.759061e-12</td>\n",
              "      <td>-8.251130e-13</td>\n",
              "      <td>-9.654937e-13</td>\n",
              "      <td>8.321385e-13</td>\n",
              "      <td>1.649999e-13</td>\n",
              "      <td>4.248366e-13</td>\n",
              "      <td>-3.054600e-13</td>\n",
              "      <td>8.777971e-14</td>\n",
              "      <td>-1.179749e-12</td>\n",
              "      <td>...</td>\n",
              "      <td>-3.405756e-13</td>\n",
              "      <td>-5.723197e-13</td>\n",
              "      <td>-9.725856e-13</td>\n",
              "      <td>1.464150e-12</td>\n",
              "      <td>-6.987102e-13</td>\n",
              "      <td>-5.617874e-13</td>\n",
              "      <td>3.332082e-12</td>\n",
              "      <td>-3.518874e-12</td>\n",
              "      <td>88.349619</td>\n",
              "      <td>0.001727</td>\n",
              "    </tr>\n",
              "    <tr>\n",
              "      <th>std</th>\n",
              "      <td>47488.145955</td>\n",
              "      <td>1.958696e+00</td>\n",
              "      <td>1.651309e+00</td>\n",
              "      <td>1.516255e+00</td>\n",
              "      <td>1.415869e+00</td>\n",
              "      <td>1.380247e+00</td>\n",
              "      <td>1.332271e+00</td>\n",
              "      <td>1.237094e+00</td>\n",
              "      <td>1.194353e+00</td>\n",
              "      <td>1.098632e+00</td>\n",
              "      <td>...</td>\n",
              "      <td>7.345240e-01</td>\n",
              "      <td>7.257016e-01</td>\n",
              "      <td>6.244603e-01</td>\n",
              "      <td>6.056471e-01</td>\n",
              "      <td>5.212781e-01</td>\n",
              "      <td>4.822270e-01</td>\n",
              "      <td>4.036325e-01</td>\n",
              "      <td>3.300833e-01</td>\n",
              "      <td>250.120109</td>\n",
              "      <td>0.041527</td>\n",
              "    </tr>\n",
              "    <tr>\n",
              "      <th>min</th>\n",
              "      <td>0.000000</td>\n",
              "      <td>-5.640751e+01</td>\n",
              "      <td>-7.271573e+01</td>\n",
              "      <td>-4.832559e+01</td>\n",
              "      <td>-5.683171e+00</td>\n",
              "      <td>-1.137433e+02</td>\n",
              "      <td>-2.616051e+01</td>\n",
              "      <td>-4.355724e+01</td>\n",
              "      <td>-7.321672e+01</td>\n",
              "      <td>-1.343407e+01</td>\n",
              "      <td>...</td>\n",
              "      <td>-3.483038e+01</td>\n",
              "      <td>-1.093314e+01</td>\n",
              "      <td>-4.480774e+01</td>\n",
              "      <td>-2.836627e+00</td>\n",
              "      <td>-1.029540e+01</td>\n",
              "      <td>-2.604551e+00</td>\n",
              "      <td>-2.256568e+01</td>\n",
              "      <td>-1.543008e+01</td>\n",
              "      <td>0.000000</td>\n",
              "      <td>0.000000</td>\n",
              "    </tr>\n",
              "    <tr>\n",
              "      <th>25%</th>\n",
              "      <td>54201.500000</td>\n",
              "      <td>-9.203734e-01</td>\n",
              "      <td>-5.985499e-01</td>\n",
              "      <td>-8.903648e-01</td>\n",
              "      <td>-8.486401e-01</td>\n",
              "      <td>-6.915971e-01</td>\n",
              "      <td>-7.682956e-01</td>\n",
              "      <td>-5.540759e-01</td>\n",
              "      <td>-2.086297e-01</td>\n",
              "      <td>-6.430976e-01</td>\n",
              "      <td>...</td>\n",
              "      <td>-2.283949e-01</td>\n",
              "      <td>-5.423504e-01</td>\n",
              "      <td>-1.618463e-01</td>\n",
              "      <td>-3.545861e-01</td>\n",
              "      <td>-3.171451e-01</td>\n",
              "      <td>-3.269839e-01</td>\n",
              "      <td>-7.083953e-02</td>\n",
              "      <td>-5.295979e-02</td>\n",
              "      <td>5.600000</td>\n",
              "      <td>0.000000</td>\n",
              "    </tr>\n",
              "    <tr>\n",
              "      <th>50%</th>\n",
              "      <td>84692.000000</td>\n",
              "      <td>1.810880e-02</td>\n",
              "      <td>6.548556e-02</td>\n",
              "      <td>1.798463e-01</td>\n",
              "      <td>-1.984653e-02</td>\n",
              "      <td>-5.433583e-02</td>\n",
              "      <td>-2.741871e-01</td>\n",
              "      <td>4.010308e-02</td>\n",
              "      <td>2.235804e-02</td>\n",
              "      <td>-5.142873e-02</td>\n",
              "      <td>...</td>\n",
              "      <td>-2.945017e-02</td>\n",
              "      <td>6.781943e-03</td>\n",
              "      <td>-1.119293e-02</td>\n",
              "      <td>4.097606e-02</td>\n",
              "      <td>1.659350e-02</td>\n",
              "      <td>-5.213911e-02</td>\n",
              "      <td>1.342146e-03</td>\n",
              "      <td>1.124383e-02</td>\n",
              "      <td>22.000000</td>\n",
              "      <td>0.000000</td>\n",
              "    </tr>\n",
              "    <tr>\n",
              "      <th>75%</th>\n",
              "      <td>139320.500000</td>\n",
              "      <td>1.315642e+00</td>\n",
              "      <td>8.037239e-01</td>\n",
              "      <td>1.027196e+00</td>\n",
              "      <td>7.433413e-01</td>\n",
              "      <td>6.119264e-01</td>\n",
              "      <td>3.985649e-01</td>\n",
              "      <td>5.704361e-01</td>\n",
              "      <td>3.273459e-01</td>\n",
              "      <td>5.971390e-01</td>\n",
              "      <td>...</td>\n",
              "      <td>1.863772e-01</td>\n",
              "      <td>5.285536e-01</td>\n",
              "      <td>1.476421e-01</td>\n",
              "      <td>4.395266e-01</td>\n",
              "      <td>3.507156e-01</td>\n",
              "      <td>2.409522e-01</td>\n",
              "      <td>9.104512e-02</td>\n",
              "      <td>7.827995e-02</td>\n",
              "      <td>77.165000</td>\n",
              "      <td>0.000000</td>\n",
              "    </tr>\n",
              "    <tr>\n",
              "      <th>max</th>\n",
              "      <td>172792.000000</td>\n",
              "      <td>2.454930e+00</td>\n",
              "      <td>2.205773e+01</td>\n",
              "      <td>9.382558e+00</td>\n",
              "      <td>1.687534e+01</td>\n",
              "      <td>3.480167e+01</td>\n",
              "      <td>7.330163e+01</td>\n",
              "      <td>1.205895e+02</td>\n",
              "      <td>2.000721e+01</td>\n",
              "      <td>1.559499e+01</td>\n",
              "      <td>...</td>\n",
              "      <td>2.720284e+01</td>\n",
              "      <td>1.050309e+01</td>\n",
              "      <td>2.252841e+01</td>\n",
              "      <td>4.584549e+00</td>\n",
              "      <td>7.519589e+00</td>\n",
              "      <td>3.517346e+00</td>\n",
              "      <td>3.161220e+01</td>\n",
              "      <td>3.384781e+01</td>\n",
              "      <td>25691.160000</td>\n",
              "      <td>1.000000</td>\n",
              "    </tr>\n",
              "  </tbody>\n",
              "</table>\n",
              "<p>8 rows × 31 columns</p>\n",
              "</div>\n",
              "      <button class=\"colab-df-convert\" onclick=\"convertToInteractive('df-a13cd1b8-d9ee-4d4c-b2a9-9351a2644346')\"\n",
              "              title=\"Convert this dataframe to an interactive table.\"\n",
              "              style=\"display:none;\">\n",
              "        \n",
              "  <svg xmlns=\"http://www.w3.org/2000/svg\" height=\"24px\"viewBox=\"0 0 24 24\"\n",
              "       width=\"24px\">\n",
              "    <path d=\"M0 0h24v24H0V0z\" fill=\"none\"/>\n",
              "    <path d=\"M18.56 5.44l.94 2.06.94-2.06 2.06-.94-2.06-.94-.94-2.06-.94 2.06-2.06.94zm-11 1L8.5 8.5l.94-2.06 2.06-.94-2.06-.94L8.5 2.5l-.94 2.06-2.06.94zm10 10l.94 2.06.94-2.06 2.06-.94-2.06-.94-.94-2.06-.94 2.06-2.06.94z\"/><path d=\"M17.41 7.96l-1.37-1.37c-.4-.4-.92-.59-1.43-.59-.52 0-1.04.2-1.43.59L10.3 9.45l-7.72 7.72c-.78.78-.78 2.05 0 2.83L4 21.41c.39.39.9.59 1.41.59.51 0 1.02-.2 1.41-.59l7.78-7.78 2.81-2.81c.8-.78.8-2.07 0-2.86zM5.41 20L4 18.59l7.72-7.72 1.47 1.35L5.41 20z\"/>\n",
              "  </svg>\n",
              "      </button>\n",
              "      \n",
              "  <style>\n",
              "    .colab-df-container {\n",
              "      display:flex;\n",
              "      flex-wrap:wrap;\n",
              "      gap: 12px;\n",
              "    }\n",
              "\n",
              "    .colab-df-convert {\n",
              "      background-color: #E8F0FE;\n",
              "      border: none;\n",
              "      border-radius: 50%;\n",
              "      cursor: pointer;\n",
              "      display: none;\n",
              "      fill: #1967D2;\n",
              "      height: 32px;\n",
              "      padding: 0 0 0 0;\n",
              "      width: 32px;\n",
              "    }\n",
              "\n",
              "    .colab-df-convert:hover {\n",
              "      background-color: #E2EBFA;\n",
              "      box-shadow: 0px 1px 2px rgba(60, 64, 67, 0.3), 0px 1px 3px 1px rgba(60, 64, 67, 0.15);\n",
              "      fill: #174EA6;\n",
              "    }\n",
              "\n",
              "    [theme=dark] .colab-df-convert {\n",
              "      background-color: #3B4455;\n",
              "      fill: #D2E3FC;\n",
              "    }\n",
              "\n",
              "    [theme=dark] .colab-df-convert:hover {\n",
              "      background-color: #434B5C;\n",
              "      box-shadow: 0px 1px 3px 1px rgba(0, 0, 0, 0.15);\n",
              "      filter: drop-shadow(0px 1px 2px rgba(0, 0, 0, 0.3));\n",
              "      fill: #FFFFFF;\n",
              "    }\n",
              "  </style>\n",
              "\n",
              "      <script>\n",
              "        const buttonEl =\n",
              "          document.querySelector('#df-a13cd1b8-d9ee-4d4c-b2a9-9351a2644346 button.colab-df-convert');\n",
              "        buttonEl.style.display =\n",
              "          google.colab.kernel.accessAllowed ? 'block' : 'none';\n",
              "\n",
              "        async function convertToInteractive(key) {\n",
              "          const element = document.querySelector('#df-a13cd1b8-d9ee-4d4c-b2a9-9351a2644346');\n",
              "          const dataTable =\n",
              "            await google.colab.kernel.invokeFunction('convertToInteractive',\n",
              "                                                     [key], {});\n",
              "          if (!dataTable) return;\n",
              "\n",
              "          const docLinkHtml = 'Like what you see? Visit the ' +\n",
              "            '<a target=\"_blank\" href=https://colab.research.google.com/notebooks/data_table.ipynb>data table notebook</a>'\n",
              "            + ' to learn more about interactive tables.';\n",
              "          element.innerHTML = '';\n",
              "          dataTable['output_type'] = 'display_data';\n",
              "          await google.colab.output.renderOutput(dataTable, element);\n",
              "          const docLink = document.createElement('div');\n",
              "          docLink.innerHTML = docLinkHtml;\n",
              "          element.appendChild(docLink);\n",
              "        }\n",
              "      </script>\n",
              "    </div>\n",
              "  </div>\n",
              "  "
            ]
          },
          "metadata": {},
          "execution_count": 8
        }
      ],
      "source": [
        "df.describe()"
      ]
    },
    {
      "cell_type": "code",
      "execution_count": null,
      "metadata": {
        "colab": {
          "base_uri": "https://localhost:8080/"
        },
        "id": "ZaqnkfGhUTCC",
        "outputId": "572d903e-2acd-4ee2-8bfd-a2a45abcf7b6"
      },
      "outputs": [
        {
          "output_type": "stream",
          "name": "stdout",
          "text": [
            "<class 'pandas.core.frame.DataFrame'>\n",
            "RangeIndex: 284807 entries, 0 to 284806\n",
            "Data columns (total 31 columns):\n",
            " #   Column  Non-Null Count   Dtype  \n",
            "---  ------  --------------   -----  \n",
            " 0   Time    284807 non-null  float64\n",
            " 1   V1      284807 non-null  float64\n",
            " 2   V2      284807 non-null  float64\n",
            " 3   V3      284807 non-null  float64\n",
            " 4   V4      284807 non-null  float64\n",
            " 5   V5      284807 non-null  float64\n",
            " 6   V6      284807 non-null  float64\n",
            " 7   V7      284807 non-null  float64\n",
            " 8   V8      284807 non-null  float64\n",
            " 9   V9      284807 non-null  float64\n",
            " 10  V10     284807 non-null  float64\n",
            " 11  V11     284807 non-null  float64\n",
            " 12  V12     284807 non-null  float64\n",
            " 13  V13     284807 non-null  float64\n",
            " 14  V14     284807 non-null  float64\n",
            " 15  V15     284807 non-null  float64\n",
            " 16  V16     284807 non-null  float64\n",
            " 17  V17     284807 non-null  float64\n",
            " 18  V18     284807 non-null  float64\n",
            " 19  V19     284807 non-null  float64\n",
            " 20  V20     284807 non-null  float64\n",
            " 21  V21     284807 non-null  float64\n",
            " 22  V22     284807 non-null  float64\n",
            " 23  V23     284807 non-null  float64\n",
            " 24  V24     284807 non-null  float64\n",
            " 25  V25     284807 non-null  float64\n",
            " 26  V26     284807 non-null  float64\n",
            " 27  V27     284807 non-null  float64\n",
            " 28  V28     284807 non-null  float64\n",
            " 29  Amount  284807 non-null  float64\n",
            " 30  Class   284807 non-null  int64  \n",
            "dtypes: float64(30), int64(1)\n",
            "memory usage: 67.4 MB\n"
          ]
        }
      ],
      "source": [
        "df.info()"
      ]
    },
    {
      "cell_type": "code",
      "execution_count": null,
      "metadata": {
        "colab": {
          "base_uri": "https://localhost:8080/"
        },
        "id": "wMTVXASCtCqD",
        "outputId": "2df9fc4d-2634-4114-a29f-bf8780717818"
      },
      "outputs": [
        {
          "output_type": "execute_result",
          "data": {
            "text/plain": [
              "Time      0\n",
              "V1        0\n",
              "V2        0\n",
              "V3        0\n",
              "V4        0\n",
              "V5        0\n",
              "V6        0\n",
              "V7        0\n",
              "V8        0\n",
              "V9        0\n",
              "V10       0\n",
              "V11       0\n",
              "V12       0\n",
              "V13       0\n",
              "V14       0\n",
              "V15       0\n",
              "V16       0\n",
              "V17       0\n",
              "V18       0\n",
              "V19       0\n",
              "V20       0\n",
              "V21       0\n",
              "V22       0\n",
              "V23       0\n",
              "V24       0\n",
              "V25       0\n",
              "V26       0\n",
              "V27       0\n",
              "V28       0\n",
              "Amount    0\n",
              "Class     0\n",
              "dtype: int64"
            ]
          },
          "metadata": {},
          "execution_count": 10
        }
      ],
      "source": [
        "df.isnull().sum()"
      ]
    },
    {
      "cell_type": "markdown",
      "source": [
        "Dataset có 30 biến là số thực và 1 biến Class là số nguyên và không có missing data"
      ],
      "metadata": {
        "id": "-v3aBH_u09PE"
      }
    },
    {
      "cell_type": "code",
      "execution_count": null,
      "metadata": {
        "colab": {
          "base_uri": "https://localhost:8080/",
          "height": 300
        },
        "id": "hX3uVVWQPL34",
        "outputId": "3f11139c-29f9-46ae-b4b9-4b942295d231"
      },
      "outputs": [
        {
          "output_type": "execute_result",
          "data": {
            "text/plain": [
              "                Time         Amount\n",
              "count  284807.000000  284807.000000\n",
              "mean    94813.859575      88.349619\n",
              "std     47488.145955     250.120109\n",
              "min         0.000000       0.000000\n",
              "25%     54201.500000       5.600000\n",
              "50%     84692.000000      22.000000\n",
              "75%    139320.500000      77.165000\n",
              "max    172792.000000   25691.160000"
            ],
            "text/html": [
              "\n",
              "  <div id=\"df-1f85d0bc-4982-4990-9049-63433adcabf5\">\n",
              "    <div class=\"colab-df-container\">\n",
              "      <div>\n",
              "<style scoped>\n",
              "    .dataframe tbody tr th:only-of-type {\n",
              "        vertical-align: middle;\n",
              "    }\n",
              "\n",
              "    .dataframe tbody tr th {\n",
              "        vertical-align: top;\n",
              "    }\n",
              "\n",
              "    .dataframe thead th {\n",
              "        text-align: right;\n",
              "    }\n",
              "</style>\n",
              "<table border=\"1\" class=\"dataframe\">\n",
              "  <thead>\n",
              "    <tr style=\"text-align: right;\">\n",
              "      <th></th>\n",
              "      <th>Time</th>\n",
              "      <th>Amount</th>\n",
              "    </tr>\n",
              "  </thead>\n",
              "  <tbody>\n",
              "    <tr>\n",
              "      <th>count</th>\n",
              "      <td>284807.000000</td>\n",
              "      <td>284807.000000</td>\n",
              "    </tr>\n",
              "    <tr>\n",
              "      <th>mean</th>\n",
              "      <td>94813.859575</td>\n",
              "      <td>88.349619</td>\n",
              "    </tr>\n",
              "    <tr>\n",
              "      <th>std</th>\n",
              "      <td>47488.145955</td>\n",
              "      <td>250.120109</td>\n",
              "    </tr>\n",
              "    <tr>\n",
              "      <th>min</th>\n",
              "      <td>0.000000</td>\n",
              "      <td>0.000000</td>\n",
              "    </tr>\n",
              "    <tr>\n",
              "      <th>25%</th>\n",
              "      <td>54201.500000</td>\n",
              "      <td>5.600000</td>\n",
              "    </tr>\n",
              "    <tr>\n",
              "      <th>50%</th>\n",
              "      <td>84692.000000</td>\n",
              "      <td>22.000000</td>\n",
              "    </tr>\n",
              "    <tr>\n",
              "      <th>75%</th>\n",
              "      <td>139320.500000</td>\n",
              "      <td>77.165000</td>\n",
              "    </tr>\n",
              "    <tr>\n",
              "      <th>max</th>\n",
              "      <td>172792.000000</td>\n",
              "      <td>25691.160000</td>\n",
              "    </tr>\n",
              "  </tbody>\n",
              "</table>\n",
              "</div>\n",
              "      <button class=\"colab-df-convert\" onclick=\"convertToInteractive('df-1f85d0bc-4982-4990-9049-63433adcabf5')\"\n",
              "              title=\"Convert this dataframe to an interactive table.\"\n",
              "              style=\"display:none;\">\n",
              "        \n",
              "  <svg xmlns=\"http://www.w3.org/2000/svg\" height=\"24px\"viewBox=\"0 0 24 24\"\n",
              "       width=\"24px\">\n",
              "    <path d=\"M0 0h24v24H0V0z\" fill=\"none\"/>\n",
              "    <path d=\"M18.56 5.44l.94 2.06.94-2.06 2.06-.94-2.06-.94-.94-2.06-.94 2.06-2.06.94zm-11 1L8.5 8.5l.94-2.06 2.06-.94-2.06-.94L8.5 2.5l-.94 2.06-2.06.94zm10 10l.94 2.06.94-2.06 2.06-.94-2.06-.94-.94-2.06-.94 2.06-2.06.94z\"/><path d=\"M17.41 7.96l-1.37-1.37c-.4-.4-.92-.59-1.43-.59-.52 0-1.04.2-1.43.59L10.3 9.45l-7.72 7.72c-.78.78-.78 2.05 0 2.83L4 21.41c.39.39.9.59 1.41.59.51 0 1.02-.2 1.41-.59l7.78-7.78 2.81-2.81c.8-.78.8-2.07 0-2.86zM5.41 20L4 18.59l7.72-7.72 1.47 1.35L5.41 20z\"/>\n",
              "  </svg>\n",
              "      </button>\n",
              "      \n",
              "  <style>\n",
              "    .colab-df-container {\n",
              "      display:flex;\n",
              "      flex-wrap:wrap;\n",
              "      gap: 12px;\n",
              "    }\n",
              "\n",
              "    .colab-df-convert {\n",
              "      background-color: #E8F0FE;\n",
              "      border: none;\n",
              "      border-radius: 50%;\n",
              "      cursor: pointer;\n",
              "      display: none;\n",
              "      fill: #1967D2;\n",
              "      height: 32px;\n",
              "      padding: 0 0 0 0;\n",
              "      width: 32px;\n",
              "    }\n",
              "\n",
              "    .colab-df-convert:hover {\n",
              "      background-color: #E2EBFA;\n",
              "      box-shadow: 0px 1px 2px rgba(60, 64, 67, 0.3), 0px 1px 3px 1px rgba(60, 64, 67, 0.15);\n",
              "      fill: #174EA6;\n",
              "    }\n",
              "\n",
              "    [theme=dark] .colab-df-convert {\n",
              "      background-color: #3B4455;\n",
              "      fill: #D2E3FC;\n",
              "    }\n",
              "\n",
              "    [theme=dark] .colab-df-convert:hover {\n",
              "      background-color: #434B5C;\n",
              "      box-shadow: 0px 1px 3px 1px rgba(0, 0, 0, 0.15);\n",
              "      filter: drop-shadow(0px 1px 2px rgba(0, 0, 0, 0.3));\n",
              "      fill: #FFFFFF;\n",
              "    }\n",
              "  </style>\n",
              "\n",
              "      <script>\n",
              "        const buttonEl =\n",
              "          document.querySelector('#df-1f85d0bc-4982-4990-9049-63433adcabf5 button.colab-df-convert');\n",
              "        buttonEl.style.display =\n",
              "          google.colab.kernel.accessAllowed ? 'block' : 'none';\n",
              "\n",
              "        async function convertToInteractive(key) {\n",
              "          const element = document.querySelector('#df-1f85d0bc-4982-4990-9049-63433adcabf5');\n",
              "          const dataTable =\n",
              "            await google.colab.kernel.invokeFunction('convertToInteractive',\n",
              "                                                     [key], {});\n",
              "          if (!dataTable) return;\n",
              "\n",
              "          const docLinkHtml = 'Like what you see? Visit the ' +\n",
              "            '<a target=\"_blank\" href=https://colab.research.google.com/notebooks/data_table.ipynb>data table notebook</a>'\n",
              "            + ' to learn more about interactive tables.';\n",
              "          element.innerHTML = '';\n",
              "          dataTable['output_type'] = 'display_data';\n",
              "          await google.colab.output.renderOutput(dataTable, element);\n",
              "          const docLink = document.createElement('div');\n",
              "          docLink.innerHTML = docLinkHtml;\n",
              "          element.appendChild(docLink);\n",
              "        }\n",
              "      </script>\n",
              "    </div>\n",
              "  </div>\n",
              "  "
            ]
          },
          "metadata": {},
          "execution_count": 11
        }
      ],
      "source": [
        "#Dataframe of Time and Amount\n",
        "df[['Time','Amount']].describe()"
      ]
    },
    {
      "cell_type": "markdown",
      "source": [
        "Số tiền giao dịch trung bình là 88.349619 USD\n",
        "\n",
        "Số tiền giao dịch lớn nhất là 25691.160000 USD"
      ],
      "metadata": {
        "id": "9Yx5zXlixvAb"
      }
    },
    {
      "cell_type": "code",
      "source": [
        "# Checking outliers\n",
        "# Scatter plot\n",
        "fig, ax = plt.subplots(figsize = (6,4))\n",
        "ax.scatter(df['Time'].div(3600),df['Amount'])\n",
        "# x-axis label\n",
        "ax.set_xlabel('(Time)')\n",
        "# y-axis label\n",
        "ax.set_ylabel('(Amount)')\n",
        "plt.show()"
      ],
      "metadata": {
        "colab": {
          "base_uri": "https://localhost:8080/",
          "height": 388
        },
        "id": "bWL7dvKhxbUy",
        "outputId": "2c5f4d73-8319-40c3-c643-95b079d18998"
      },
      "execution_count": null,
      "outputs": [
        {
          "output_type": "display_data",
          "data": {
            "text/plain": [
              "<Figure size 600x400 with 1 Axes>"
            ],
            "image/png": "[encoded data removed]"
          },
          "metadata": {}
        }
      ]
    },
    {
      "cell_type": "markdown",
      "source": [
        "Dựa vào biểu đồ, dễ dàng nhận thấy feature này có outliers."
      ],
      "metadata": {
        "id": "xyFf3ssexk49"
      }
    },
    {
      "cell_type": "code",
      "source": [
        "fraud = df[df['Class']==1]\n",
        "legal = df[df['Class']==0]"
      ],
      "metadata": {
        "id": "_q4OktYd5mpr"
      },
      "execution_count": null,
      "outputs": []
    },
    {
      "cell_type": "code",
      "execution_count": null,
      "metadata": {
        "colab": {
          "base_uri": "https://localhost:8080/",
          "height": 300
        },
        "id": "5G_B2RgIR9ra",
        "outputId": "5653c47d-184b-4c43-b1df-8ba3a967fb73"
      },
      "outputs": [
        {
          "output_type": "execute_result",
          "data": {
            "text/plain": [
              "            Amount         Amount\n",
              "count   492.000000  284315.000000\n",
              "mean    122.211321      88.291022\n",
              "std     256.683288     250.105092\n",
              "min       0.000000       0.000000\n",
              "25%       1.000000       5.650000\n",
              "50%       9.250000      22.000000\n",
              "75%     105.890000      77.050000\n",
              "max    2125.870000   25691.160000"
            ],
            "text/html": [
              "\n",
              "  <div id=\"df-d7871516-b42d-42fa-b396-9fe280bf479b\">\n",
              "    <div class=\"colab-df-container\">\n",
              "      <div>\n",
              "<style scoped>\n",
              "    .dataframe tbody tr th:only-of-type {\n",
              "        vertical-align: middle;\n",
              "    }\n",
              "\n",
              "    .dataframe tbody tr th {\n",
              "        vertical-align: top;\n",
              "    }\n",
              "\n",
              "    .dataframe thead th {\n",
              "        text-align: right;\n",
              "    }\n",
              "</style>\n",
              "<table border=\"1\" class=\"dataframe\">\n",
              "  <thead>\n",
              "    <tr style=\"text-align: right;\">\n",
              "      <th></th>\n",
              "      <th>Amount</th>\n",
              "      <th>Amount</th>\n",
              "    </tr>\n",
              "  </thead>\n",
              "  <tbody>\n",
              "    <tr>\n",
              "      <th>count</th>\n",
              "      <td>492.000000</td>\n",
              "      <td>284315.000000</td>\n",
              "    </tr>\n",
              "    <tr>\n",
              "      <th>mean</th>\n",
              "      <td>122.211321</td>\n",
              "      <td>88.291022</td>\n",
              "    </tr>\n",
              "    <tr>\n",
              "      <th>std</th>\n",
              "      <td>256.683288</td>\n",
              "      <td>250.105092</td>\n",
              "    </tr>\n",
              "    <tr>\n",
              "      <th>min</th>\n",
              "      <td>0.000000</td>\n",
              "      <td>0.000000</td>\n",
              "    </tr>\n",
              "    <tr>\n",
              "      <th>25%</th>\n",
              "      <td>1.000000</td>\n",
              "      <td>5.650000</td>\n",
              "    </tr>\n",
              "    <tr>\n",
              "      <th>50%</th>\n",
              "      <td>9.250000</td>\n",
              "      <td>22.000000</td>\n",
              "    </tr>\n",
              "    <tr>\n",
              "      <th>75%</th>\n",
              "      <td>105.890000</td>\n",
              "      <td>77.050000</td>\n",
              "    </tr>\n",
              "    <tr>\n",
              "      <th>max</th>\n",
              "      <td>2125.870000</td>\n",
              "      <td>25691.160000</td>\n",
              "    </tr>\n",
              "  </tbody>\n",
              "</table>\n",
              "</div>\n",
              "      <button class=\"colab-df-convert\" onclick=\"convertToInteractive('df-d7871516-b42d-42fa-b396-9fe280bf479b')\"\n",
              "              title=\"Convert this dataframe to an interactive table.\"\n",
              "              style=\"display:none;\">\n",
              "        \n",
              "  <svg xmlns=\"http://www.w3.org/2000/svg\" height=\"24px\"viewBox=\"0 0 24 24\"\n",
              "       width=\"24px\">\n",
              "    <path d=\"M0 0h24v24H0V0z\" fill=\"none\"/>\n",
              "    <path d=\"M18.56 5.44l.94 2.06.94-2.06 2.06-.94-2.06-.94-.94-2.06-.94 2.06-2.06.94zm-11 1L8.5 8.5l.94-2.06 2.06-.94-2.06-.94L8.5 2.5l-.94 2.06-2.06.94zm10 10l.94 2.06.94-2.06 2.06-.94-2.06-.94-.94-2.06-.94 2.06-2.06.94z\"/><path d=\"M17.41 7.96l-1.37-1.37c-.4-.4-.92-.59-1.43-.59-.52 0-1.04.2-1.43.59L10.3 9.45l-7.72 7.72c-.78.78-.78 2.05 0 2.83L4 21.41c.39.39.9.59 1.41.59.51 0 1.02-.2 1.41-.59l7.78-7.78 2.81-2.81c.8-.78.8-2.07 0-2.86zM5.41 20L4 18.59l7.72-7.72 1.47 1.35L5.41 20z\"/>\n",
              "  </svg>\n",
              "      </button>\n",
              "      \n",
              "  <style>\n",
              "    .colab-df-container {\n",
              "      display:flex;\n",
              "      flex-wrap:wrap;\n",
              "      gap: 12px;\n",
              "    }\n",
              "\n",
              "    .colab-df-convert {\n",
              "      background-color: #E8F0FE;\n",
              "      border: none;\n",
              "      border-radius: 50%;\n",
              "      cursor: pointer;\n",
              "      display: none;\n",
              "      fill: #1967D2;\n",
              "      height: 32px;\n",
              "      padding: 0 0 0 0;\n",
              "      width: 32px;\n",
              "    }\n",
              "\n",
              "    .colab-df-convert:hover {\n",
              "      background-color: #E2EBFA;\n",
              "      box-shadow: 0px 1px 2px rgba(60, 64, 67, 0.3), 0px 1px 3px 1px rgba(60, 64, 67, 0.15);\n",
              "      fill: #174EA6;\n",
              "    }\n",
              "\n",
              "    [theme=dark] .colab-df-convert {\n",
              "      background-color: #3B4455;\n",
              "      fill: #D2E3FC;\n",
              "    }\n",
              "\n",
              "    [theme=dark] .colab-df-convert:hover {\n",
              "      background-color: #434B5C;\n",
              "      box-shadow: 0px 1px 3px 1px rgba(0, 0, 0, 0.15);\n",
              "      filter: drop-shadow(0px 1px 2px rgba(0, 0, 0, 0.3));\n",
              "      fill: #FFFFFF;\n",
              "    }\n",
              "  </style>\n",
              "\n",
              "      <script>\n",
              "        const buttonEl =\n",
              "          document.querySelector('#df-d7871516-b42d-42fa-b396-9fe280bf479b button.colab-df-convert');\n",
              "        buttonEl.style.display =\n",
              "          google.colab.kernel.accessAllowed ? 'block' : 'none';\n",
              "\n",
              "        async function convertToInteractive(key) {\n",
              "          const element = document.querySelector('#df-d7871516-b42d-42fa-b396-9fe280bf479b');\n",
              "          const dataTable =\n",
              "            await google.colab.kernel.invokeFunction('convertToInteractive',\n",
              "                                                     [key], {});\n",
              "          if (!dataTable) return;\n",
              "\n",
              "          const docLinkHtml = 'Like what you see? Visit the ' +\n",
              "            '<a target=\"_blank\" href=https://colab.research.google.com/notebooks/data_table.ipynb>data table notebook</a>'\n",
              "            + ' to learn more about interactive tables.';\n",
              "          element.innerHTML = '';\n",
              "          dataTable['output_type'] = 'display_data';\n",
              "          await google.colab.output.renderOutput(dataTable, element);\n",
              "          const docLink = document.createElement('div');\n",
              "          docLink.innerHTML = docLinkHtml;\n",
              "          element.appendChild(docLink);\n",
              "        }\n",
              "      </script>\n",
              "    </div>\n",
              "  </div>\n",
              "  "
            ]
          },
          "metadata": {},
          "execution_count": 104
        }
      ],
      "source": [
        "# Dataframe of the amount of fraud transaction and legal transaction\n",
        "pd.concat([fraud['Amount'].describe(), legal['Amount'].describe()], axis=1)"
      ]
    },
    {
      "cell_type": "markdown",
      "source": [
        "###Check counts of fraud transactions (1) and legal transactions (0)\n",
        "\n",
        "\n"
      ],
      "metadata": {
        "id": "p7Sq2PML5Tkz"
      }
    },
    {
      "cell_type": "markdown",
      "source": [
        "####Pie chart"
      ],
      "metadata": {
        "id": "KxzENxXwPkRH"
      }
    },
    {
      "cell_type": "code",
      "source": [
        "fraud_1 = fraud['Class'].count()\n",
        "legal_0 = legal['Class'].count()"
      ],
      "metadata": {
        "id": "9VYBCb3A6rei"
      },
      "execution_count": null,
      "outputs": []
    },
    {
      "cell_type": "code",
      "execution_count": null,
      "metadata": {
        "colab": {
          "base_uri": "https://localhost:8080/",
          "height": 471
        },
        "id": "O15Z9LNrKK_T",
        "outputId": "89269f98-c8c4-4213-db02-900d86539380"
      },
      "outputs": [
        {
          "output_type": "display_data",
          "data": {
            "text/plain": [
              "<Figure size 640x480 with 1 Axes>"
            ],
            "image/png": "[encoded data removed]"
          },
          "metadata": {}
        },
        {
          "output_type": "stream",
          "name": "stdout",
          "text": [
            "Number of legal transactions: 284315 (account for: 99.83 %)\n",
            "Number of fraud transactions: 492 (account for: 0.17 %)\n"
          ]
        }
      ],
      "source": [
        "# Pie chart\n",
        "labels= ['Fraud transactions', 'Legal transactions']\n",
        "colors=['red', 'pink']\n",
        "sizes= [fraud_1, legal_0]\n",
        "plt.pie(sizes, labels=labels, colors=colors, startangle=90, autopct='%1.1f%%', shadow=True)\n",
        "plt.title('Credit Card Fraud Class Pie Chart', fontsize = 14)\n",
        "plt.axis('equal')\n",
        "plt.show()\n",
        "print(f'Number of legal transactions: {legal_0} (account for: {round(legal_0 / (legal_0+fraud_1) * 100, 2)} %)')\n",
        "print(f'Number of fraud transactions: {fraud_1} (account for: {round(fraud_1 / (legal_0+fraud_1) * 100, 2)} %)')"
      ]
    },
    {
      "cell_type": "markdown",
      "source": [
        "Bộ dữ liệu này chứa các giao dịch xảy ra trong 2 ngày, trong đó có 492 giao dịch gian lận và 284316 giao dịch hợp lệ trong tổng số 284.807 giao dịch.\n",
        "\n",
        "Bộ dữ liệu rất mất cân bằng, trường hợp giao dịch gian lận chiếm 0,172% trong tất cả các giao dịch, còn lại chiếm 99.83%.\n",
        "\n"
      ],
      "metadata": {
        "id": "KugmhgPM3QKj"
      }
    },
    {
      "cell_type": "markdown",
      "source": [
        "####Heatmap"
      ],
      "metadata": {
        "id": "qSvMOlwfzX15"
      }
    },
    {
      "cell_type": "code",
      "source": [
        "# Heatmap\n",
        "f, ax1= plt.subplots(1,figsize =( 18, 8))\n",
        "sns.heatmap(df.corr(), vmax = 1, square=True, cmap = 'coolwarm');\n",
        "plt.show()"
      ],
      "metadata": {
        "colab": {
          "base_uri": "https://localhost:8080/",
          "height": 722
        },
        "id": "N764QEluzKR4",
        "outputId": "d9f17dd8-2162-453f-f79c-2a34966d4fe2"
      },
      "execution_count": null,
      "outputs": [
        {
          "output_type": "display_data",
          "data": {
            "text/plain": [
              "<Figure size 1800x800 with 2 Axes>"
            ],
            "image/png": "[encoded data removed]"
          },
          "metadata": {}
        }
      ]
    },
    {
      "cell_type": "markdown",
      "source": [
        "\n",
        "###Distribution of Transaction Time"
      ],
      "metadata": {
        "id": "acn6mIiwPvYT"
      }
    },
    {
      "cell_type": "code",
      "execution_count": null,
      "metadata": {
        "colab": {
          "base_uri": "https://localhost:8080/",
          "height": 978
        },
        "id": "ND7DoKXpUFWY",
        "outputId": "956f3efb-74fa-47e0-f95b-69d3ba9b3c7b"
      },
      "outputs": [
        {
          "output_type": "error",
          "ename": "KeyError",
          "evalue": "ignored",
          "traceback": [
            "\u001b[0;31m---------------------------------------------------------------------------\u001b[0m",
            "\u001b[0;31mKeyError\u001b[0m                                  Traceback (most recent call last)",
            "\u001b[0;32m/usr/local/lib/python3.10/dist-packages/pandas/core/indexes/base.py\u001b[0m in \u001b[0;36mget_loc\u001b[0;34m(self, key, method, tolerance)\u001b[0m\n\u001b[1;32m   3801\u001b[0m             \u001b[0;32mtry\u001b[0m\u001b[0;34m:\u001b[0m\u001b[0;34m\u001b[0m\u001b[0;34m\u001b[0m\u001b[0m\n\u001b[0;32m-> 3802\u001b[0;31m                 \u001b[0;32mreturn\u001b[0m \u001b[0mself\u001b[0m\u001b[0;34m.\u001b[0m\u001b[0m_engine\u001b[0m\u001b[0;34m.\u001b[0m\u001b[0mget_loc\u001b[0m\u001b[0;34m(\u001b[0m\u001b[0mcasted_key\u001b[0m\u001b[0;34m)\u001b[0m\u001b[0;34m\u001b[0m\u001b[0;34m\u001b[0m\u001b[0m\n\u001b[0m\u001b[1;32m   3803\u001b[0m             \u001b[0;32mexcept\u001b[0m \u001b[0mKeyError\u001b[0m \u001b[0;32mas\u001b[0m \u001b[0merr\u001b[0m\u001b[0;34m:\u001b[0m\u001b[0;34m\u001b[0m\u001b[0;34m\u001b[0m\u001b[0m\n",
            "\u001b[0;32m/usr/local/lib/python3.10/dist-packages/pandas/_libs/index.pyx\u001b[0m in \u001b[0;36mpandas._libs.index.IndexEngine.get_loc\u001b[0;34m()\u001b[0m\n",
            "\u001b[0;32m/usr/local/lib/python3.10/dist-packages/pandas/_libs/index.pyx\u001b[0m in \u001b[0;36mpandas._libs.index.IndexEngine.get_loc\u001b[0;34m()\u001b[0m\n",
            "\u001b[0;32mpandas/_libs/hashtable_class_helper.pxi\u001b[0m in \u001b[0;36mpandas._libs.hashtable.PyObjectHashTable.get_item\u001b[0;34m()\u001b[0m\n",
            "\u001b[0;32mpandas/_libs/hashtable_class_helper.pxi\u001b[0m in \u001b[0;36mpandas._libs.hashtable.PyObjectHashTable.get_item\u001b[0;34m()\u001b[0m\n",
            "\u001b[0;31mKeyError\u001b[0m: 'Time'",
            "\nThe above exception was the direct cause of the following exception:\n",
            "\u001b[0;31mKeyError\u001b[0m                                  Traceback (most recent call last)",
            "\u001b[0;32m<ipython-input-52-8f12fd369e32>\u001b[0m in \u001b[0;36m<cell line: 5>\u001b[0;34m()\u001b[0m\n\u001b[1;32m      3\u001b[0m \u001b[0mplt\u001b[0m\u001b[0;34m.\u001b[0m\u001b[0mxlabel\u001b[0m\u001b[0;34m(\u001b[0m\u001b[0;34m'Time'\u001b[0m\u001b[0;34m,\u001b[0m \u001b[0mfontsize\u001b[0m \u001b[0;34m=\u001b[0m \u001b[0;36m14\u001b[0m\u001b[0;34m)\u001b[0m\u001b[0;34m\u001b[0m\u001b[0;34m\u001b[0m\u001b[0m\n\u001b[1;32m      4\u001b[0m \u001b[0mplt\u001b[0m\u001b[0;34m.\u001b[0m\u001b[0mylabel\u001b[0m\u001b[0;34m(\u001b[0m\u001b[0;34m'Density'\u001b[0m\u001b[0;34m,\u001b[0m \u001b[0mfontsize\u001b[0m \u001b[0;34m=\u001b[0m \u001b[0;36m14\u001b[0m\u001b[0;34m)\u001b[0m\u001b[0;34m\u001b[0m\u001b[0;34m\u001b[0m\u001b[0m\n\u001b[0;32m----> 5\u001b[0;31m \u001b[0msns\u001b[0m\u001b[0;34m.\u001b[0m\u001b[0mdistplot\u001b[0m\u001b[0;34m(\u001b[0m\u001b[0mdf\u001b[0m\u001b[0;34m[\u001b[0m\u001b[0;34m'Time'\u001b[0m\u001b[0;34m]\u001b[0m\u001b[0;34m.\u001b[0m\u001b[0mdiv\u001b[0m\u001b[0;34m(\u001b[0m\u001b[0;36m3600\u001b[0m\u001b[0;34m)\u001b[0m\u001b[0;34m,\u001b[0m \u001b[0mcolor\u001b[0m\u001b[0;34m=\u001b[0m\u001b[0;34m'orange'\u001b[0m\u001b[0;34m,\u001b[0m \u001b[0mkde_kws\u001b[0m\u001b[0;34m=\u001b[0m\u001b[0;34m{\u001b[0m\u001b[0;34m'linewidth'\u001b[0m\u001b[0;34m:\u001b[0m \u001b[0;36m2\u001b[0m\u001b[0;34m}\u001b[0m\u001b[0;34m,\u001b[0m \u001b[0mbins\u001b[0m\u001b[0;34m=\u001b[0m\u001b[0;36m100\u001b[0m\u001b[0;34m)\u001b[0m\u001b[0;34m\u001b[0m\u001b[0;34m\u001b[0m\u001b[0m\n\u001b[0m",
            "\u001b[0;32m/usr/local/lib/python3.10/dist-packages/pandas/core/frame.py\u001b[0m in \u001b[0;36m__getitem__\u001b[0;34m(self, key)\u001b[0m\n\u001b[1;32m   3805\u001b[0m             \u001b[0;32mif\u001b[0m \u001b[0mself\u001b[0m\u001b[0;34m.\u001b[0m\u001b[0mcolumns\u001b[0m\u001b[0;34m.\u001b[0m\u001b[0mnlevels\u001b[0m \u001b[0;34m>\u001b[0m \u001b[0;36m1\u001b[0m\u001b[0;34m:\u001b[0m\u001b[0;34m\u001b[0m\u001b[0;34m\u001b[0m\u001b[0m\n\u001b[1;32m   3806\u001b[0m                 \u001b[0;32mreturn\u001b[0m \u001b[0mself\u001b[0m\u001b[0;34m.\u001b[0m\u001b[0m_getitem_multilevel\u001b[0m\u001b[0;34m(\u001b[0m\u001b[0mkey\u001b[0m\u001b[0;34m)\u001b[0m\u001b[0;34m\u001b[0m\u001b[0;34m\u001b[0m\u001b[0m\n\u001b[0;32m-> 3807\u001b[0;31m             \u001b[0mindexer\u001b[0m \u001b[0;34m=\u001b[0m \u001b[0mself\u001b[0m\u001b[0;34m.\u001b[0m\u001b[0mcolumns\u001b[0m\u001b[0;34m.\u001b[0m\u001b[0mget_loc\u001b[0m\u001b[0;34m(\u001b[0m\u001b[0mkey\u001b[0m\u001b[0;34m)\u001b[0m\u001b[0;34m\u001b[0m\u001b[0;34m\u001b[0m\u001b[0m\n\u001b[0m\u001b[1;32m   3808\u001b[0m             \u001b[0;32mif\u001b[0m \u001b[0mis_integer\u001b[0m\u001b[0;34m(\u001b[0m\u001b[0mindexer\u001b[0m\u001b[0;34m)\u001b[0m\u001b[0;34m:\u001b[0m\u001b[0;34m\u001b[0m\u001b[0;34m\u001b[0m\u001b[0m\n\u001b[1;32m   3809\u001b[0m                 \u001b[0mindexer\u001b[0m \u001b[0;34m=\u001b[0m \u001b[0;34m[\u001b[0m\u001b[0mindexer\u001b[0m\u001b[0;34m]\u001b[0m\u001b[0;34m\u001b[0m\u001b[0;34m\u001b[0m\u001b[0m\n",
            "\u001b[0;32m/usr/local/lib/python3.10/dist-packages/pandas/core/indexes/base.py\u001b[0m in \u001b[0;36mget_loc\u001b[0;34m(self, key, method, tolerance)\u001b[0m\n\u001b[1;32m   3802\u001b[0m                 \u001b[0;32mreturn\u001b[0m \u001b[0mself\u001b[0m\u001b[0;34m.\u001b[0m\u001b[0m_engine\u001b[0m\u001b[0;34m.\u001b[0m\u001b[0mget_loc\u001b[0m\u001b[0;34m(\u001b[0m\u001b[0mcasted_key\u001b[0m\u001b[0;34m)\u001b[0m\u001b[0;34m\u001b[0m\u001b[0;34m\u001b[0m\u001b[0m\n\u001b[1;32m   3803\u001b[0m             \u001b[0;32mexcept\u001b[0m \u001b[0mKeyError\u001b[0m \u001b[0;32mas\u001b[0m \u001b[0merr\u001b[0m\u001b[0;34m:\u001b[0m\u001b[0;34m\u001b[0m\u001b[0;34m\u001b[0m\u001b[0m\n\u001b[0;32m-> 3804\u001b[0;31m                 \u001b[0;32mraise\u001b[0m \u001b[0mKeyError\u001b[0m\u001b[0;34m(\u001b[0m\u001b[0mkey\u001b[0m\u001b[0;34m)\u001b[0m \u001b[0;32mfrom\u001b[0m \u001b[0merr\u001b[0m\u001b[0;34m\u001b[0m\u001b[0;34m\u001b[0m\u001b[0m\n\u001b[0m\u001b[1;32m   3805\u001b[0m             \u001b[0;32mexcept\u001b[0m \u001b[0mTypeError\u001b[0m\u001b[0;34m:\u001b[0m\u001b[0;34m\u001b[0m\u001b[0;34m\u001b[0m\u001b[0m\n\u001b[1;32m   3806\u001b[0m                 \u001b[0;31m# If we have a listlike key, _check_indexing_error will raise\u001b[0m\u001b[0;34m\u001b[0m\u001b[0;34m\u001b[0m\u001b[0m\n",
            "\u001b[0;31mKeyError\u001b[0m: 'Time'"
          ]
        },
        {
          "output_type": "display_data",
          "data": {
            "text/plain": [
              "<Figure size 1000x500 with 1 Axes>"
            ],
            "image/png": "[encoded data removed]"
          },
          "metadata": {}
        }
      ],
      "source": [
        "plt.figure(figsize=(10,5))\n",
        "plt.title('Distribution of Transaction Time', fontsize=14)\n",
        "plt.xlabel('Time', fontsize = 14)\n",
        "plt.ylabel('Density', fontsize = 14)\n",
        "sns.distplot(df['Time'].div(3600), color='orange', kde_kws={'linewidth': 2}, bins=100)"
      ]
    },
    {
      "cell_type": "markdown",
      "source": [
        "Hầu hết các giao dịch diễn ra vào ban ngày."
      ],
      "metadata": {
        "id": "U1EZe3tq7MVW"
      }
    },
    {
      "cell_type": "markdown",
      "source": [
        "###Distribution of Fraud Transactions (Time)"
      ],
      "metadata": {
        "id": "Elo9sNCbQMeH"
      }
    },
    {
      "cell_type": "code",
      "source": [
        "plt.figure(figsize=(10,5))\n",
        "plt.title('Distribution of Fraud Transactions', fontsize=14)\n",
        "plt.xlabel('Time', fontsize = 14)\n",
        "plt.ylabel('Density', fontsize = 14)\n",
        "sns.distplot(fraud['Time'].div(3600), color='red', kde_kws={'linewidth': 2}, bins=100)"
      ],
      "metadata": {
        "id": "NJ0Ca7mwQIkx",
        "colab": {
          "base_uri": "https://localhost:8080/",
          "height": 701
        },
        "outputId": "afe3af09-d56d-488c-ca99-501432e6d2c3"
      },
      "execution_count": null,
      "outputs": [
        {
          "output_type": "stream",
          "name": "stderr",
          "text": [
            "<ipython-input-23-1ce7207804b8>:5: UserWarning: \n",
            "\n",
            "`distplot` is a deprecated function and will be removed in seaborn v0.14.0.\n",
            "\n",
            "Please adapt your code to use either `displot` (a figure-level function with\n",
            "similar flexibility) or `histplot` (an axes-level function for histograms).\n",
            "\n",
            "For a guide to updating your code to use the new functions, please see\n",
            "https://gist.github.com/mwaskom/de44147ed2974457ad6372750bbe5751\n",
            "\n",
            "  sns.distplot(fraud['Time'].div(3600), color='red', kde_kws={'linewidth': 2}, bins=100)\n"
          ]
        },
        {
          "output_type": "execute_result",
          "data": {
            "text/plain": [
              "<Axes: title={'center': 'Distribution of Fraud Transactions'}, xlabel='Time', ylabel='Density'>"
            ]
          },
          "metadata": {},
          "execution_count": 23
        },
        {
          "output_type": "display_data",
          "data": {
            "text/plain": [
              "<Figure size 1000x500 with 1 Axes>"
            ],
            "image/png": "[encoded data removed]"
          },
          "metadata": {}
        }
      ]
    },
    {
      "cell_type": "markdown",
      "source": [
        "###Distribution of Legal Transactions (Time)"
      ],
      "metadata": {
        "id": "DxEOIRrjQTEb"
      }
    },
    {
      "cell_type": "code",
      "source": [
        "plt.figure(figsize=(10,5))\n",
        "plt.xlabel('Time', fontsize = 14)\n",
        "plt.ylabel('Density', fontsize = 14)\n",
        "plt.title('Distribution of Legal Transactions', fontsize=14)\n",
        "sns.distplot(legal['Time'].div(3600), color='darkblue', kde_kws={'linewidth': 2}, bins=100)"
      ],
      "metadata": {
        "id": "msyn0xdaQJYi",
        "colab": {
          "base_uri": "https://localhost:8080/",
          "height": 701
        },
        "outputId": "567919a9-bb65-4e3d-9f2e-0f1f63d43400"
      },
      "execution_count": null,
      "outputs": [
        {
          "output_type": "stream",
          "name": "stderr",
          "text": [
            "<ipython-input-24-c56af276650f>:5: UserWarning: \n",
            "\n",
            "`distplot` is a deprecated function and will be removed in seaborn v0.14.0.\n",
            "\n",
            "Please adapt your code to use either `displot` (a figure-level function with\n",
            "similar flexibility) or `histplot` (an axes-level function for histograms).\n",
            "\n",
            "For a guide to updating your code to use the new functions, please see\n",
            "https://gist.github.com/mwaskom/de44147ed2974457ad6372750bbe5751\n",
            "\n",
            "  sns.distplot(legal['Time'].div(3600), color='darkblue', kde_kws={'linewidth': 2}, bins=100)\n"
          ]
        },
        {
          "output_type": "execute_result",
          "data": {
            "text/plain": [
              "<Axes: title={'center': 'Distribution of Legal Transactions'}, xlabel='Time', ylabel='Density'>"
            ]
          },
          "metadata": {},
          "execution_count": 24
        },
        {
          "output_type": "display_data",
          "data": {
            "text/plain": [
              "<Figure size 1000x500 with 1 Axes>"
            ],
            "image/png": "[encoded data removed]"
          },
          "metadata": {}
        }
      ]
    },
    {
      "cell_type": "code",
      "source": [
        "Am_fraud = df[(df['Amount'] >= 200)  & (df['Amount'] < 2000) & (df['Class']==1)]\n",
        "fr1 = Am_fraud.iloc[:, Am_fraud.columns == ('Amount') ]\n",
        "fr2 = Am_fraud.iloc[:, Am_fraud.columns == ('Class') ]\n",
        "fr3 = pd.concat([fr1, fr2], axis=1)\n",
        "\n",
        "Am_legal = df[(df['Amount'] >= 200)  & (df['Amount'] < 2000) & (df['Class']==0)]\n",
        "fr4 = Am_legal.iloc[:, Am_legal.columns == ('Amount') ]\n",
        "fr5 = Am_legal.iloc[:, Am_legal.columns == ('Class') ]\n",
        "fr6 = pd.concat([fr4, fr5], axis=1)"
      ],
      "metadata": {
        "id": "c73o9R9-MPLH"
      },
      "execution_count": null,
      "outputs": []
    },
    {
      "cell_type": "markdown",
      "source": [
        "###Distribution of Transaction Amount\n"
      ],
      "metadata": {
        "id": "IGF7m2TTP73A"
      }
    },
    {
      "cell_type": "code",
      "execution_count": null,
      "metadata": {
        "colab": {
          "base_uri": "https://localhost:8080/",
          "height": 701
        },
        "id": "HW83yzmvXI4s",
        "outputId": "b7e992d9-d60c-494d-f9b1-0c79821106c0"
      },
      "outputs": [
        {
          "output_type": "stream",
          "name": "stderr",
          "text": [
            "<ipython-input-25-a7ffa3baf755>:5: UserWarning: \n",
            "\n",
            "`distplot` is a deprecated function and will be removed in seaborn v0.14.0.\n",
            "\n",
            "Please adapt your code to use either `displot` (a figure-level function with\n",
            "similar flexibility) or `histplot` (an axes-level function for histograms).\n",
            "\n",
            "For a guide to updating your code to use the new functions, please see\n",
            "https://gist.github.com/mwaskom/de44147ed2974457ad6372750bbe5751\n",
            "\n",
            "  sns.distplot(df['Amount'], color='green', kde_kws={'linewidth': 1}, bins=100)\n"
          ]
        },
        {
          "output_type": "execute_result",
          "data": {
            "text/plain": [
              "<Axes: title={'center': 'Distribution of Transaction Amount'}, xlabel='Amount', ylabel='Density'>"
            ]
          },
          "metadata": {},
          "execution_count": 25
        },
        {
          "output_type": "display_data",
          "data": {
            "text/plain": [
              "<Figure size 1000x500 with 1 Axes>"
            ],
            "image/png": "[encoded data removed]"
          },
          "metadata": {}
        }
      ],
      "source": [
        "plt.figure(figsize=(10,5))\n",
        "plt.title('Distribution of Transaction Amount', fontsize=14)\n",
        "plt.xlabel('Amount', fontsize = 14)\n",
        "plt.ylabel('Density', fontsize = 14)\n",
        "sns.distplot(df['Amount'], color='green', kde_kws={'linewidth': 1}, bins=100)"
      ]
    },
    {
      "cell_type": "markdown",
      "source": [
        "###Distribution of Fraud Transactions (Amount)"
      ],
      "metadata": {
        "id": "FQF6LJ8AGeyQ"
      }
    },
    {
      "cell_type": "code",
      "source": [
        "plt.figure(figsize=(10,5))\n",
        "plt.title('Distribution of Fraud Transactions', fontsize=14)\n",
        "plt.xlabel('Amount', fontsize = 14)\n",
        "plt.ylabel('Density', fontsize = 14)\n",
        "sns.distplot(fraud['Amount'], color='purple', kde_kws={'linewidth': 1}, bins=100)"
      ],
      "metadata": {
        "colab": {
          "base_uri": "https://localhost:8080/",
          "height": 701
        },
        "id": "XL-cbg5Zzzkx",
        "outputId": "ff6930a8-c39b-49f0-b6a5-b1a75439116b"
      },
      "execution_count": null,
      "outputs": [
        {
          "output_type": "stream",
          "name": "stderr",
          "text": [
            "<ipython-input-49-feaffda4e1ab>:5: UserWarning: \n",
            "\n",
            "`distplot` is a deprecated function and will be removed in seaborn v0.14.0.\n",
            "\n",
            "Please adapt your code to use either `displot` (a figure-level function with\n",
            "similar flexibility) or `histplot` (an axes-level function for histograms).\n",
            "\n",
            "For a guide to updating your code to use the new functions, please see\n",
            "https://gist.github.com/mwaskom/de44147ed2974457ad6372750bbe5751\n",
            "\n",
            "  sns.distplot(fraud['Amount'], color='purple', kde_kws={'linewidth': 1}, bins=100)\n"
          ]
        },
        {
          "output_type": "execute_result",
          "data": {
            "text/plain": [
              "<Axes: title={'center': 'Distribution of Fraud Transactions'}, xlabel='Amount', ylabel='Density'>"
            ]
          },
          "metadata": {},
          "execution_count": 49
        },
        {
          "output_type": "display_data",
          "data": {
            "text/plain": [
              "<Figure size 1000x500 with 1 Axes>"
            ],
            "image/png": "[encoded data removed]"
          },
          "metadata": {}
        }
      ]
    },
    {
      "cell_type": "markdown",
      "source": [
        "###Distribution of Legal Transactions (Amount)"
      ],
      "metadata": {
        "id": "FX2PleQdGzin"
      }
    },
    {
      "cell_type": "code",
      "source": [
        "plt.figure(figsize=(10,5))\n",
        "plt.title('Distribution of Legal Transactions', fontsize=14)\n",
        "plt.xlabel('Amount', fontsize = 14)\n",
        "plt.ylabel('Density', fontsize = 14)\n",
        "sns.distplot(legal['Amount'], color='blue', kde_kws={'linewidth': 1}, bins=100)"
      ],
      "metadata": {
        "colab": {
          "base_uri": "https://localhost:8080/",
          "height": 701
        },
        "id": "u387pFPczpIw",
        "outputId": "17b528a2-e737-4172-884c-ae19acb65575"
      },
      "execution_count": null,
      "outputs": [
        {
          "output_type": "stream",
          "name": "stderr",
          "text": [
            "<ipython-input-50-1b9245d74a5b>:5: UserWarning: \n",
            "\n",
            "`distplot` is a deprecated function and will be removed in seaborn v0.14.0.\n",
            "\n",
            "Please adapt your code to use either `displot` (a figure-level function with\n",
            "similar flexibility) or `histplot` (an axes-level function for histograms).\n",
            "\n",
            "For a guide to updating your code to use the new functions, please see\n",
            "https://gist.github.com/mwaskom/de44147ed2974457ad6372750bbe5751\n",
            "\n",
            "  sns.distplot(legal['Amount'], color='blue', kde_kws={'linewidth': 1}, bins=100)\n"
          ]
        },
        {
          "output_type": "execute_result",
          "data": {
            "text/plain": [
              "<Axes: title={'center': 'Distribution of Legal Transactions'}, xlabel='Amount', ylabel='Density'>"
            ]
          },
          "metadata": {},
          "execution_count": 50
        },
        {
          "output_type": "display_data",
          "data": {
            "text/plain": [
              "<Figure size 1000x500 with 1 Axes>"
            ],
            "image/png": "[encoded data removed]"
          },
          "metadata": {}
        }
      ]
    },
    {
      "cell_type": "markdown",
      "source": [
        "Phần lớn các giao dịch là tương đối nhỏ.\n",
        "\n",
        "Hầu hết các giao dịch hàng ngày không quá đắt, nhưng có khả năng các giao dịch gian lận cũng đang xảy ra."
      ],
      "metadata": {
        "id": "L3OTx5xU9cR8"
      }
    },
    {
      "cell_type": "markdown",
      "source": [
        "##4. Scaling the data"
      ],
      "metadata": {
        "id": "PZXSXDu8QZWv"
      }
    },
    {
      "cell_type": "markdown",
      "source": [],
      "metadata": {
        "id": "dzA02DwdLuCT"
      }
    },
    {
      "cell_type": "code",
      "execution_count": null,
      "metadata": {
        "colab": {
          "base_uri": "https://localhost:8080/",
          "height": 299
        },
        "id": "4i6gEG8MdJF8",
        "outputId": "c535e7df-ec3c-4a4d-a3a7-ffa5ec78608f"
      },
      "outputs": [
        {
          "output_type": "execute_result",
          "data": {
            "text/plain": [
              "         V1        V2        V3        V4        V5        V6        V7  \\\n",
              "0 -1.359807 -0.072781  2.536347  1.378155 -0.338321  0.462388  0.239599   \n",
              "1  1.191857  0.266151  0.166480  0.448154  0.060018 -0.082361 -0.078803   \n",
              "2 -1.358354 -1.340163  1.773209  0.379780 -0.503198  1.800499  0.791461   \n",
              "3 -0.966272 -0.185226  1.792993 -0.863291 -0.010309  1.247203  0.237609   \n",
              "4 -1.158233  0.877737  1.548718  0.403034 -0.407193  0.095921  0.592941   \n",
              "\n",
              "         V8        V9       V10  ...       V22       V23       V24       V25  \\\n",
              "0  0.098698  0.363787  0.090794  ...  0.277838 -0.110474  0.066928  0.128539   \n",
              "1  0.085102 -0.255425 -0.166974  ... -0.638672  0.101288 -0.339846  0.167170   \n",
              "2  0.247676 -1.514654  0.207643  ...  0.771679  0.909412 -0.689281 -0.327642   \n",
              "3  0.377436 -1.387024 -0.054952  ...  0.005274 -0.190321 -1.175575  0.647376   \n",
              "4 -0.270533  0.817739  0.753074  ...  0.798278 -0.137458  0.141267 -0.206010   \n",
              "\n",
              "        V26       V27       V28  Class  scaled_amount  scaled_time  \n",
              "0 -0.189115  0.133558 -0.021053      0       1.783274    -0.994983  \n",
              "1  0.125895 -0.008983  0.014724      0      -0.269825    -0.994983  \n",
              "2 -0.139097 -0.055353 -0.059752      0       4.983721    -0.994972  \n",
              "3 -0.221929  0.062723  0.061458      0       1.418291    -0.994972  \n",
              "4  0.502292  0.219422  0.215153      0       0.670579    -0.994960  \n",
              "\n",
              "[5 rows x 31 columns]"
            ],
            "text/html": [
              "\n",
              "  <div id=\"df-a2597b82-ed60-4f50-826a-9eb3ec092993\">\n",
              "    <div class=\"colab-df-container\">\n",
              "      <div>\n",
              "<style scoped>\n",
              "    .dataframe tbody tr th:only-of-type {\n",
              "        vertical-align: middle;\n",
              "    }\n",
              "\n",
              "    .dataframe tbody tr th {\n",
              "        vertical-align: top;\n",
              "    }\n",
              "\n",
              "    .dataframe thead th {\n",
              "        text-align: right;\n",
              "    }\n",
              "</style>\n",
              "<table border=\"1\" class=\"dataframe\">\n",
              "  <thead>\n",
              "    <tr style=\"text-align: right;\">\n",
              "      <th></th>\n",
              "      <th>V1</th>\n",
              "      <th>V2</th>\n",
              "      <th>V3</th>\n",
              "      <th>V4</th>\n",
              "      <th>V5</th>\n",
              "      <th>V6</th>\n",
              "      <th>V7</th>\n",
              "      <th>V8</th>\n",
              "      <th>V9</th>\n",
              "      <th>V10</th>\n",
              "      <th>...</th>\n",
              "      <th>V22</th>\n",
              "      <th>V23</th>\n",
              "      <th>V24</th>\n",
              "      <th>V25</th>\n",
              "      <th>V26</th>\n",
              "      <th>V27</th>\n",
              "      <th>V28</th>\n",
              "      <th>Class</th>\n",
              "      <th>scaled_amount</th>\n",
              "      <th>scaled_time</th>\n",
              "    </tr>\n",
              "  </thead>\n",
              "  <tbody>\n",
              "    <tr>\n",
              "      <th>0</th>\n",
              "      <td>-1.359807</td>\n",
              "      <td>-0.072781</td>\n",
              "      <td>2.536347</td>\n",
              "      <td>1.378155</td>\n",
              "      <td>-0.338321</td>\n",
              "      <td>0.462388</td>\n",
              "      <td>0.239599</td>\n",
              "      <td>0.098698</td>\n",
              "      <td>0.363787</td>\n",
              "      <td>0.090794</td>\n",
              "      <td>...</td>\n",
              "      <td>0.277838</td>\n",
              "      <td>-0.110474</td>\n",
              "      <td>0.066928</td>\n",
              "      <td>0.128539</td>\n",
              "      <td>-0.189115</td>\n",
              "      <td>0.133558</td>\n",
              "      <td>-0.021053</td>\n",
              "      <td>0</td>\n",
              "      <td>1.783274</td>\n",
              "      <td>-0.994983</td>\n",
              "    </tr>\n",
              "    <tr>\n",
              "      <th>1</th>\n",
              "      <td>1.191857</td>\n",
              "      <td>0.266151</td>\n",
              "      <td>0.166480</td>\n",
              "      <td>0.448154</td>\n",
              "      <td>0.060018</td>\n",
              "      <td>-0.082361</td>\n",
              "      <td>-0.078803</td>\n",
              "      <td>0.085102</td>\n",
              "      <td>-0.255425</td>\n",
              "      <td>-0.166974</td>\n",
              "      <td>...</td>\n",
              "      <td>-0.638672</td>\n",
              "      <td>0.101288</td>\n",
              "      <td>-0.339846</td>\n",
              "      <td>0.167170</td>\n",
              "      <td>0.125895</td>\n",
              "      <td>-0.008983</td>\n",
              "      <td>0.014724</td>\n",
              "      <td>0</td>\n",
              "      <td>-0.269825</td>\n",
              "      <td>-0.994983</td>\n",
              "    </tr>\n",
              "    <tr>\n",
              "      <th>2</th>\n",
              "      <td>-1.358354</td>\n",
              "      <td>-1.340163</td>\n",
              "      <td>1.773209</td>\n",
              "      <td>0.379780</td>\n",
              "      <td>-0.503198</td>\n",
              "      <td>1.800499</td>\n",
              "      <td>0.791461</td>\n",
              "      <td>0.247676</td>\n",
              "      <td>-1.514654</td>\n",
              "      <td>0.207643</td>\n",
              "      <td>...</td>\n",
              "      <td>0.771679</td>\n",
              "      <td>0.909412</td>\n",
              "      <td>-0.689281</td>\n",
              "      <td>-0.327642</td>\n",
              "      <td>-0.139097</td>\n",
              "      <td>-0.055353</td>\n",
              "      <td>-0.059752</td>\n",
              "      <td>0</td>\n",
              "      <td>4.983721</td>\n",
              "      <td>-0.994972</td>\n",
              "    </tr>\n",
              "    <tr>\n",
              "      <th>3</th>\n",
              "      <td>-0.966272</td>\n",
              "      <td>-0.185226</td>\n",
              "      <td>1.792993</td>\n",
              "      <td>-0.863291</td>\n",
              "      <td>-0.010309</td>\n",
              "      <td>1.247203</td>\n",
              "      <td>0.237609</td>\n",
              "      <td>0.377436</td>\n",
              "      <td>-1.387024</td>\n",
              "      <td>-0.054952</td>\n",
              "      <td>...</td>\n",
              "      <td>0.005274</td>\n",
              "      <td>-0.190321</td>\n",
              "      <td>-1.175575</td>\n",
              "      <td>0.647376</td>\n",
              "      <td>-0.221929</td>\n",
              "      <td>0.062723</td>\n",
              "      <td>0.061458</td>\n",
              "      <td>0</td>\n",
              "      <td>1.418291</td>\n",
              "      <td>-0.994972</td>\n",
              "    </tr>\n",
              "    <tr>\n",
              "      <th>4</th>\n",
              "      <td>-1.158233</td>\n",
              "      <td>0.877737</td>\n",
              "      <td>1.548718</td>\n",
              "      <td>0.403034</td>\n",
              "      <td>-0.407193</td>\n",
              "      <td>0.095921</td>\n",
              "      <td>0.592941</td>\n",
              "      <td>-0.270533</td>\n",
              "      <td>0.817739</td>\n",
              "      <td>0.753074</td>\n",
              "      <td>...</td>\n",
              "      <td>0.798278</td>\n",
              "      <td>-0.137458</td>\n",
              "      <td>0.141267</td>\n",
              "      <td>-0.206010</td>\n",
              "      <td>0.502292</td>\n",
              "      <td>0.219422</td>\n",
              "      <td>0.215153</td>\n",
              "      <td>0</td>\n",
              "      <td>0.670579</td>\n",
              "      <td>-0.994960</td>\n",
              "    </tr>\n",
              "  </tbody>\n",
              "</table>\n",
              "<p>5 rows × 31 columns</p>\n",
              "</div>\n",
              "      <button class=\"colab-df-convert\" onclick=\"convertToInteractive('df-a2597b82-ed60-4f50-826a-9eb3ec092993')\"\n",
              "              title=\"Convert this dataframe to an interactive table.\"\n",
              "              style=\"display:none;\">\n",
              "        \n",
              "  <svg xmlns=\"http://www.w3.org/2000/svg\" height=\"24px\"viewBox=\"0 0 24 24\"\n",
              "       width=\"24px\">\n",
              "    <path d=\"M0 0h24v24H0V0z\" fill=\"none\"/>\n",
              "    <path d=\"M18.56 5.44l.94 2.06.94-2.06 2.06-.94-2.06-.94-.94-2.06-.94 2.06-2.06.94zm-11 1L8.5 8.5l.94-2.06 2.06-.94-2.06-.94L8.5 2.5l-.94 2.06-2.06.94zm10 10l.94 2.06.94-2.06 2.06-.94-2.06-.94-.94-2.06-.94 2.06-2.06.94z\"/><path d=\"M17.41 7.96l-1.37-1.37c-.4-.4-.92-.59-1.43-.59-.52 0-1.04.2-1.43.59L10.3 9.45l-7.72 7.72c-.78.78-.78 2.05 0 2.83L4 21.41c.39.39.9.59 1.41.59.51 0 1.02-.2 1.41-.59l7.78-7.78 2.81-2.81c.8-.78.8-2.07 0-2.86zM5.41 20L4 18.59l7.72-7.72 1.47 1.35L5.41 20z\"/>\n",
              "  </svg>\n",
              "      </button>\n",
              "      \n",
              "  <style>\n",
              "    .colab-df-container {\n",
              "      display:flex;\n",
              "      flex-wrap:wrap;\n",
              "      gap: 12px;\n",
              "    }\n",
              "\n",
              "    .colab-df-convert {\n",
              "      background-color: #E8F0FE;\n",
              "      border: none;\n",
              "      border-radius: 50%;\n",
              "      cursor: pointer;\n",
              "      display: none;\n",
              "      fill: #1967D2;\n",
              "      height: 32px;\n",
              "      padding: 0 0 0 0;\n",
              "      width: 32px;\n",
              "    }\n",
              "\n",
              "    .colab-df-convert:hover {\n",
              "      background-color: #E2EBFA;\n",
              "      box-shadow: 0px 1px 2px rgba(60, 64, 67, 0.3), 0px 1px 3px 1px rgba(60, 64, 67, 0.15);\n",
              "      fill: #174EA6;\n",
              "    }\n",
              "\n",
              "    [theme=dark] .colab-df-convert {\n",
              "      background-color: #3B4455;\n",
              "      fill: #D2E3FC;\n",
              "    }\n",
              "\n",
              "    [theme=dark] .colab-df-convert:hover {\n",
              "      background-color: #434B5C;\n",
              "      box-shadow: 0px 1px 3px 1px rgba(0, 0, 0, 0.15);\n",
              "      filter: drop-shadow(0px 1px 2px rgba(0, 0, 0, 0.3));\n",
              "      fill: #FFFFFF;\n",
              "    }\n",
              "  </style>\n",
              "\n",
              "      <script>\n",
              "        const buttonEl =\n",
              "          document.querySelector('#df-a2597b82-ed60-4f50-826a-9eb3ec092993 button.colab-df-convert');\n",
              "        buttonEl.style.display =\n",
              "          google.colab.kernel.accessAllowed ? 'block' : 'none';\n",
              "\n",
              "        async function convertToInteractive(key) {\n",
              "          const element = document.querySelector('#df-a2597b82-ed60-4f50-826a-9eb3ec092993');\n",
              "          const dataTable =\n",
              "            await google.colab.kernel.invokeFunction('convertToInteractive',\n",
              "                                                     [key], {});\n",
              "          if (!dataTable) return;\n",
              "\n",
              "          const docLinkHtml = 'Like what you see? Visit the ' +\n",
              "            '<a target=\"_blank\" href=https://colab.research.google.com/notebooks/data_table.ipynb>data table notebook</a>'\n",
              "            + ' to learn more about interactive tables.';\n",
              "          element.innerHTML = '';\n",
              "          dataTable['output_type'] = 'display_data';\n",
              "          await google.colab.output.renderOutput(dataTable, element);\n",
              "          const docLink = document.createElement('div');\n",
              "          docLink.innerHTML = docLinkHtml;\n",
              "          element.appendChild(docLink);\n",
              "        }\n",
              "      </script>\n",
              "    </div>\n",
              "  </div>\n",
              "  "
            ]
          },
          "metadata": {},
          "execution_count": 38
        }
      ],
      "source": [
        "std_scaler = StandardScaler()\n",
        "rob_scaler = RobustScaler()\n",
        "df['scaled_amount'] = rob_scaler.fit_transform(df['Amount'].values.reshape(-1,1))\n",
        "df['scaled_time'] = rob_scaler.fit_transform(df['Time'].values.reshape(-1,1))\n",
        "df.drop(['Time','Amount'], axis=1, inplace=True)\n",
        "df.head()"
      ]
    },
    {
      "cell_type": "markdown",
      "source": [
        "####Correlation matrices"
      ],
      "metadata": {
        "id": "hDIo5h7FUmEq"
      }
    },
    {
      "cell_type": "code",
      "source": [
        "f, ax1= plt.subplots(1,figsize =( 18, 8))\n",
        "sns.heatmap(df.corr(), vmax = 1, square=True, cmap = 'coolwarm');\n",
        "plt.show()"
      ],
      "metadata": {
        "colab": {
          "base_uri": "https://localhost:8080/",
          "height": 773
        },
        "id": "wg0l9FS9RV2i",
        "outputId": "ee390f75-b1c6-4730-e6a3-39fb21e3cc63"
      },
      "execution_count": null,
      "outputs": [
        {
          "output_type": "display_data",
          "data": {
            "text/plain": [
              "<Figure size 1800x800 with 2 Axes>"
            ],
            "image/png": "[encoded data removed]"
          },
          "metadata": {}
        }
      ]
    },
    {
      "cell_type": "markdown",
      "source": [
        "##5. Building Models"
      ],
      "metadata": {
        "id": "8sEMKthSVVVq"
      }
    },
    {
      "cell_type": "markdown",
      "source": [
        "### Spliting the data"
      ],
      "metadata": {
        "id": "iCbvoe9wQ5wG"
      }
    },
    {
      "cell_type": "markdown",
      "source": [
        "Chia tập dữ liệu thành 80%-20% để training và testing trước khi huấn luyện mô hình nào.\n",
        "\n",
        "*   X: tất cả trừ Class và Time\n",
        "*   y: Class (target variable)"
      ],
      "metadata": {
        "id": "Y15obDxVVlV3"
      }
    },
    {
      "cell_type": "code",
      "source": [
        "X = df.drop(['Class','scaled_time'], axis=1)\n",
        "y = df['Class']"
      ],
      "metadata": {
        "id": "TroeUXeXxqrn"
      },
      "execution_count": null,
      "outputs": []
    },
    {
      "cell_type": "code",
      "source": [
        "X_train, X_test, y_train, y_test = train_test_split(X, y, test_size = 0.2, random_state = 0)"
      ],
      "metadata": {
        "id": "gMY-PoQFx4C_"
      },
      "execution_count": null,
      "outputs": []
    },
    {
      "cell_type": "code",
      "source": [
        "print(f'Number of transactions in training set: {X_train.shape[0]}')\n",
        "print(f'Number of transactions in testing set: {X_test.shape[0]}')\n",
        "print(f'Number of transactions in whole set: {X.shape[0]}')\n",
        "print(f\"Counts of fraud transactions: {y_train.value_counts()[1]}\")\n",
        "print(f\"Counts of normal transactions: {y_train.value_counts()[0]}\")"
      ],
      "metadata": {
        "id": "Ln3Y1BGpfYOR",
        "colab": {
          "base_uri": "https://localhost:8080/"
        },
        "outputId": "27b77f3e-4c6d-4098-de7b-e5df8e170ef2"
      },
      "execution_count": null,
      "outputs": [
        {
          "output_type": "stream",
          "name": "stdout",
          "text": [
            "Number of transactions in training set: 227845\n",
            "Number of transactions in testing set: 56962\n",
            "Number of transactions in whole set: 284807\n",
            "Counts of fraud transactions: 391\n",
            "Counts of normal transactions: 227454\n"
          ]
        }
      ]
    },
    {
      "cell_type": "markdown",
      "source": [
        "###SWOTE"
      ],
      "metadata": {
        "id": "EshqadbYRGOB"
      }
    },
    {
      "cell_type": "markdown",
      "source": [
        "Xử lý dữ liệu mất cân bằng bằng SMOTE trước khi huấn luyện mô hình:\n",
        "\n",
        "Có một số phương pháp lấy mẫu lại dữ liệu bị sai lệch:\n",
        "\n",
        "\n",
        "\n",
        "*   Undersampling: Kỹ thuật lấy mẫu Undersampling sẽ giảm các mẫu dữ liệu trong lớp đa số để có cùng số với lớp thiểu số.\n",
        "*   Oversampling: Kỹ thuật lấy mẫu Oversampling sẽ tăng các mẫu dữ liệu trong lớp thiểu số bằng cách nhân đôi để có cùng số với lớp đa số.\n",
        "*   SMOTE: Kỹ thuật SMOTE sẽ cân bằng các lớp tập dữ liệu bằng cách tạo thêm mẫu cho lớp thiểu số.\n",
        "\n",
        "Trong đồ án này, lựa chọn phương pháp SMOTE do:\n",
        "\n",
        "*   Undersampling cắt bớt quá nhiều dữ liệu.\n",
        "*   Oversampling tạo ra quá nhiều dữ liệu trùng lặp.\n",
        "\n",
        "\n",
        "\n",
        "\n"
      ],
      "metadata": {
        "id": "Ush0PkySJIQn"
      }
    },
    {
      "cell_type": "code",
      "source": [
        "print('Original dataset shape %s' % Counter(y_train))\n",
        "smt = SMOTE(random_state=42)\n",
        "X_train_smt, y_train_smt = smt.fit_resample(X_train, y_train)\n",
        "print('Resampled dataset shape %s' % Counter(y_train_smt))"
      ],
      "metadata": {
        "colab": {
          "base_uri": "https://localhost:8080/"
        },
        "id": "MmMf5OqBGEOU",
        "outputId": "86cf00d5-8601-4e5b-97f9-a47c00e4f5ee"
      },
      "execution_count": null,
      "outputs": [
        {
          "output_type": "stream",
          "name": "stdout",
          "text": [
            "Original dataset shape Counter({0: 227454, 1: 391})\n",
            "Resampled dataset shape Counter({0: 227454, 1: 227454})\n"
          ]
        }
      ]
    },
    {
      "cell_type": "code",
      "source": [
        "f,ax = plt.subplots(figsize=(3,4))\n",
        "ax = sns.countplot(x=y_train, data=df, palette='Set1')\n",
        "plt.show()"
      ],
      "metadata": {
        "colab": {
          "base_uri": "https://localhost:8080/",
          "height": 388
        },
        "id": "UxKUv787UCas",
        "outputId": "e0e4107b-fffa-4209-92ae-bb637534fc00"
      },
      "execution_count": null,
      "outputs": [
        {
          "output_type": "display_data",
          "data": {
            "text/plain": [
              "<Figure size 300x400 with 1 Axes>"
            ],
            "image/png": "[encoded data removed]"
          },
          "metadata": {}
        }
      ]
    },
    {
      "cell_type": "code",
      "source": [
        "f,ax = plt.subplots(figsize=(3,4))\n",
        "ax = sns.countplot(x=y_train_smt, data=df, palette='Set1')\n",
        "plt.show()"
      ],
      "metadata": {
        "colab": {
          "base_uri": "https://localhost:8080/",
          "height": 388
        },
        "id": "b537jbUJShgw",
        "outputId": "118e1027-f751-46b8-be28-fc273f1894e1"
      },
      "execution_count": null,
      "outputs": [
        {
          "output_type": "display_data",
          "data": {
            "text/plain": [
              "<Figure size 300x400 with 1 Axes>"
            ],
            "image/png": "[encoded data removed]"
          },
          "metadata": {}
        }
      ]
    },
    {
      "cell_type": "markdown",
      "source": [
        "###Modeling\n"
      ],
      "metadata": {
        "id": "7gzhFKq-RY2p"
      }
    },
    {
      "cell_type": "markdown",
      "source": [
        "####Confusion Matrix\n",
        "![image.png](data:image/png;base64,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)"
      ],
      "metadata": {
        "id": "oxQecCqMnQLL"
      }
    },
    {
      "cell_type": "markdown",
      "source": [
        "Confusion Matrix là đồ thị trực quan của 2 yếu tố Thực tế và Dự đoán. Nó đo lường hiệu suất của mô hình Classification techniques Machine Learning và trông giống như một cấu trúc giống bảng.\n",
        "\n",
        "TP: True Positive: Các giá trị thực sự Positive và được dự đoán là Positive.\n",
        "\n",
        "FP: False Positive: Các giá trị thực sự là Negative nhưng được dự đoán sai là Positive. Còn được gọi là Lỗi loại I.\n",
        "\n",
        "FN: False Negative: Các giá trị thực sự là Positive nhưng được dự đoán sai là Negative. Còn được gọi là Lỗi loại II.\n",
        "\n",
        "TN: True Negative: Các giá trị thực sự Negative và được dự đoán là Negative."
      ],
      "metadata": {
        "id": "hbjvFtNulxvl"
      }
    },
    {
      "cell_type": "markdown",
      "source": [
        "####Classification Report"
      ],
      "metadata": {
        "id": "lpBI6VNzl5rf"
      }
    },
    {
      "cell_type": "markdown",
      "source": [
        "Báo cáo phân loại là thước đo đánh giá hiệu suất trong Machine Learning.\n",
        "\n",
        "*   Accuracy: tỷ lệ của tổng số dự đoán đúng\n",
        "\n",
        "  ![image.png](data:image/png;base64,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)\n",
        "*   Precision: kiểm tra xem có bao nhiêu kết quả thực sự là kết quả tích cực trong tổng số các kết quả được dự đoán tích cực.\n",
        "  ![image.png](data:image/png;base64,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)\n",
        "*   Recall: kiểm tra các kết quả dự đoán tích cực chính xác trong tổng số các kết quả tích cực.\n",
        "\n",
        "  ![image.png](data:image/png;base64,iVBORw0KGgoAAAANSUhEUgAAAHwAAAAlCAMAAAC3QX2zAAAAAXNSR0IArs4c6QAAAARnQU1BAACxjwv8YQUAAAKaUExURf////7+/vn5+fPz8/Hx8fj4+Pf39/39/fr6+vX19fDw8PT09Ovr62VlZXp6epOTk2RkZISEhI2NjV5eXr6+vnl5eWdnZ5aWloeHh3h4eM7Oztvb20dHR9bW1ujo6DU1Nampqe7u7mhoaJeXl3t7e0pKSuzs7ICAgEVFReLi4rq6ukFBQbe3t9PT08vLy4uLi1dXV97e3jExMby8vLW1tYmJiVhYWDc3N8nJyU1NTd/f39TU1Gtra3FxcY6Ojjw8PJ6eno+Pj6Ojo/v7+1ZWVr+/v8PDw8HBwbu7u8XFxbm5uWFhYdHR0W1tbcjIyEJCQri4uIWFhS0tLVJSUoODg+3t7WZmZikpKeHh4ZCQkBoaGuDg4CwsLJ+fn0NDQ9jY2Hx8fBkZGZycnJGRkTAwMMLCwiUlJbKysmxsbO/v73JycicnJ1tbW729vfb29vz8/N3d3efn51lZWaCgoJSUlKysrJiYmKenp8bGxn5+fh4eHqGhoWlpaWpqapqamiMjI8fHx66urn9/f4iIiIaGhsDAwGBgYNzc3DMzM9XV1SgoKJWVlTo6Oj4+PvLy8uTk5FVVVVpaWlRUVKioqDY2Nj09Perq6jIyMuXl5dDQ0NfX10lJSW5ubioqKnR0dHNzc0ZGRiQkJJ2dnV9fX+bm5unp6UBAQDs7O+Pj4z8/P7CwsKamptLS0szMzMTExM/Pz2NjY83NzSYmJnd3d0hISCIiIh0dHdra2k9PT1xcXJKSkh8fH29vbxQUFCsrK5ubm6SkpGJiYra2tjk5ORcXF3BwcIqKilNTU0xMTHZ2dk5OTnV1dTg4OFBQUIGBgdnZ2URERC8vL0tLS319faKiorOzs7S0tMrKyq2tra+vr1FRUaWlpaqqqgAAAHJQuywAAADedFJOU///////////////////////////////////////////////////////////////////////////////////////////////////////////////////////////////////////////////////////////////////////////////////////////////////////////////////////////////////////////////////////////////////////////////////////////////////////AAe2m48AAAAJcEhZcwAAFxEAABcRAcom8z8AAALJSURBVFhH7ZbBkesgDIZpRd2oAtWhEw1w4UgjnBgf0wMFUMz+EsTe3bdJJllP3syb943XNpi18qMfmfCffw7yY929F5KWcBSmVmJrdXW/B+1K2wgSQ+uBWn+reuIQOodaQypobWi+Fcoe0YLX/N55R/A+7JK6qoj3vJGr8h6T/4qXcb88aRpCzoFN+88wV2Z+9FYuQqFKeS5xj4JT2npKktNq34BkU7zl8pxlaYt2adlbP6CbxW0XH3ablBGcn1wvQyKmlNLNCqO54UzbzbxMXgo+uZNS3Sy4Zg+uMY45lmFQhPOrtVNG/2vB70CuvPrkc49cis2UCMdLC7U3bv4oWs6P4BRbWrRf/CBTTlpMuKIU44TsN9PZ0vRpMb98U65Sdn6xhDX3tszu6gISMGfjiqfbn9V7bq9PYrFgOK292K1sTVrrgiTsaqiymOiHOdfSnyKjcMDnUMnIL4LnqqpECLIWHkVJsVjcmfNdOY2DtY5q5aXJrvjbj73nK/ifuc7LhnvPtDHtB5rNuIv+nvOSl4LeH1SIe1zdDmsNrzRaURa7PdH57FBej2mng9XzCuNiayvIJRKVHDkWBBgX4YGbnhkdCInyiu70qA4+CWqfmBxtAsWp9FkKWbp1a0NbJYXacFLsycyYN1ipJPLz6vyM+nP1gXfe8wqcY8I3qlfqErFvXN3I3rrBiDZiT3DSiGW56iSqYNlqQMETOMUN6gzzzcQ2NhzxIzA6/6I2/QkUYsMalDx4tXXixD34+ryHYSUzn2sfJHXuEhvCxX2rPI4J7hH1wabfhu55OYkK5UDKXDPQitICJy//UW/RqsLIPODfk7kqL8xz0rWI9I6P0JS5lI+8l8UTuSo/LAbirnHPuZWw01nKvwb/5nbghjud4eWXfHOwc7i9rm1q8k/3yRBH24PriJ9fjoW9qNF3ZsTjbKff5qdK+7cJ4QP5CeTzJVm+mwAAAABJRU5ErkJggg==)\n",
        "*   F beta score  là trung bình hài hòa của accuracy và recall, thể hiện sự đóng góp của cả hai điểm. Sự đóng góp phụ thuộc vào giá trị beta trong công thức dưới đây.\n",
        "\n",
        "  ![image.png](data:image/png;base64,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)\n",
        "*   Giá trị beta mặc định là 1 cung cấp cho chúng ta công thức của F1 Score, trong đó đóng góp của Accuracy và Gọi lại là như nhau. Điểm F1 càng cao thì mô hình càng tốt.\n",
        "\n",
        "\n",
        "\n",
        "\n",
        "\n",
        "\n",
        "\n",
        "\n",
        "\n",
        "\n",
        "\n",
        "\n",
        "\n",
        "\n"
      ],
      "metadata": {
        "id": "SSWj041hIa8E"
      }
    },
    {
      "cell_type": "markdown",
      "source": [
        "####Logistic Regression"
      ],
      "metadata": {
        "id": "6Ps0nMA0RhV5"
      }
    },
    {
      "cell_type": "markdown",
      "source": [
        "**Định nghĩa:**\n",
        "Hồi quy logistic dự đoán đầu ra của một biến phụ thuộc phân loại. Do đó, kết quả phải là một giá trị phân loại hoặc rời rạc. Nó có thể là Có hoặc Không, 0 hoặc 1, đúng hoặc Sai, v.v. nhưng thay vì đưa ra giá trị chính xác là 0 và 1, nó đưa ra các giá trị xác suất nằm trong khoảng từ 0 đến 1.\n"
      ],
      "metadata": {
        "id": "dcwAxqPEWcev"
      }
    },
    {
      "cell_type": "markdown",
      "source": [
        "\n",
        "\n",
        "*   Phương trình hồi quy logistic được lấy từ hồi quy tuyến tính có dạng:\n",
        "\n",
        "  ![image.png](data:image/png;base64,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)\n",
        "\n",
        "*   Trong hồi quy logistic, y chỉ có thể nằm trong khoảng từ 0 đến 1, vì vậy, hãy chia phương trình trên cho (1-y):\n",
        "\n",
        "  ![image.png](data:image/png;base64,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)\n",
        "\n",
        "*   Nhưng ta cần phạm vi từ -∞ đến +∞, lấy logarit của phương trình, trở thành:\n",
        "\n",
        "  ![image.png](data:image/png;base64,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)\n",
        "\n",
        "\n",
        "\n",
        "\n",
        "\n",
        "\n",
        "\n",
        "\n",
        "\n",
        "\n",
        "\n"
      ],
      "metadata": {
        "id": "qA2jfBWXXto_"
      }
    },
    {
      "cell_type": "markdown",
      "source": [
        "**Lí do sử dụng Logistic Regression:** có khả năng cô lập\n",
        "dữ liệu thuộc về các lớp nhị phân khác nhau."
      ],
      "metadata": {
        "id": "7FtaKA8M91wI"
      }
    },
    {
      "cell_type": "code",
      "source": [
        "model_lrsmt =  LogisticRegression()\n",
        "model_lrsmt.fit(X_train_smt, y_train_smt)\n",
        "predictions = model_lrsmt.predict(X_test)\n",
        "cm = confusion_matrix(y_test, predictions, labels=model_lrsmt.classes_)\n",
        "disp = ConfusionMatrixDisplay(confusion_matrix=cm,display_labels=model_lrsmt.classes_)\n",
        "disp.plot(cmap=plt.cm.Blues,values_format='g')\n",
        "plt.show()"
      ],
      "metadata": {
        "id": "y9GkYv9-e82n",
        "colab": {
          "base_uri": "https://localhost:8080/",
          "height": 449
        },
        "outputId": "867e5f7e-684d-4c48-b467-c6e38c7e5639"
      },
      "execution_count": null,
      "outputs": [
        {
          "output_type": "display_data",
          "data": {
            "text/plain": [
              "<Figure size 640x480 with 2 Axes>"
            ],
            "image/png": "[encoded data removed]"
          },
          "metadata": {}
        }
      ]
    },
    {
      "cell_type": "code",
      "source": [
        "from sklearn.metrics import classification_report\n",
        "y_pred_2 = model_lrsmt.predict(X_test)\n",
        "print(classification_report(y_test, y_pred_2, digits=4))"
      ],
      "metadata": {
        "colab": {
          "base_uri": "https://localhost:8080/"
        },
        "id": "UGCDd6ESbDRq",
        "outputId": "bd5c8645-9aaf-44bf-fff8-478915587f63"
      },
      "execution_count": null,
      "outputs": [
        {
          "output_type": "stream",
          "name": "stdout",
          "text": [
            "              precision    recall  f1-score   support\n",
            "\n",
            "           0     0.9999    0.9755    0.9875     56861\n",
            "           1     0.0638    0.9406    0.1196       101\n",
            "\n",
            "    accuracy                         0.9754     56962\n",
            "   macro avg     0.5319    0.9580    0.5536     56962\n",
            "weighted avg     0.9982    0.9754    0.9860     56962\n",
            "\n"
          ]
        }
      ]
    },
    {
      "cell_type": "markdown",
      "source": [
        "Với mô hình hồi quy Logistic, nắm bắt được 95 trong số 101 trường hợp gian lận trong tập dữ liệu thử nghiệm và 1393 giao dịch bị đánh dấu nhầm là gian lận."
      ],
      "metadata": {
        "id": "gOHTjw4eX4un"
      }
    },
    {
      "cell_type": "markdown",
      "source": [
        "####Decision Tree"
      ],
      "metadata": {
        "id": "9tiVB2IxRmgy"
      }
    },
    {
      "cell_type": "code",
      "source": [
        "params_dt = {'max_depth': 16,\n",
        "             'max_features': \"sqrt\"}\n",
        "model_dtsmt = DecisionTreeClassifier(**params_dt)\n",
        "model_dtsmt.fit(X_train_smt, y_train_smt)\n",
        "predictions = model_dtsmt.predict(X_test)\n",
        "cm = confusion_matrix(y_test, predictions, labels=model_dtsmt.classes_)\n",
        "disp = ConfusionMatrixDisplay(confusion_matrix=cm,display_labels=model_dtsmt.classes_)\n",
        "disp.plot(cmap=plt.cm.Blues,values_format='g')\n",
        "plt.show()"
      ],
      "metadata": {
        "colab": {
          "base_uri": "https://localhost:8080/",
          "height": 449
        },
        "id": "Ko8AT6HKFUmt",
        "outputId": "b8555c24-77d9-42c6-94b2-3eba1c508b30"
      },
      "execution_count": null,
      "outputs": [
        {
          "output_type": "display_data",
          "data": {
            "text/plain": [
              "<Figure size 640x480 with 2 Axes>"
            ],
            "image/png": "[encoded data removed]"
          },
          "metadata": {}
        }
      ]
    },
    {
      "cell_type": "markdown",
      "source": [
        "Với DecisionTreeClassifier, 83 trong số 101 trường hợp gian lận trong tập dữ liệu thử nghiệm đã được phát hiện nhưng nó hoạt động rất tốt khi cho thấy ít false - positive hơn với 615 giao dịch."
      ],
      "metadata": {
        "id": "xepslAB9ZdtQ"
      }
    },
    {
      "cell_type": "code",
      "source": [
        "y_pred_2 = model_dtsmt.predict(X_test)\n",
        "print(classification_report(y_test, y_pred_2, digits=4))"
      ],
      "metadata": {
        "colab": {
          "base_uri": "https://localhost:8080/"
        },
        "id": "Nk848tQlbfWW",
        "outputId": "1a61778d-3e5c-472d-dc04-f81519c5fc20"
      },
      "execution_count": null,
      "outputs": [
        {
          "output_type": "stream",
          "name": "stdout",
          "text": [
            "              precision    recall  f1-score   support\n",
            "\n",
            "           0     0.9997    0.9892    0.9944     56861\n",
            "           1     0.1189    0.8218    0.2078       101\n",
            "\n",
            "    accuracy                         0.9889     56962\n",
            "   macro avg     0.5593    0.9055    0.6011     56962\n",
            "weighted avg     0.9981    0.9889    0.9930     56962\n",
            "\n"
          ]
        }
      ]
    },
    {
      "cell_type": "markdown",
      "source": [
        "#### Random Forest"
      ],
      "metadata": {
        "id": "QPqQaWHxRtJ8"
      }
    },
    {
      "cell_type": "markdown",
      "source": [
        "**Định nghĩa:** Rừng ngẫu nhiên là một bộ phân loại chứa một số cây quyết định trên các tập hợp con khác nhau của tập dữ liệu nhất định và lấy giá trị trung bình để cải thiện độ chính xác dự đoán của tập dữ liệu đó"
      ],
      "metadata": {
        "id": "vJPXfsHQDEUO"
      }
    },
    {
      "cell_type": "code",
      "source": [
        "model_rfsmt = RandomForestClassifier()\n",
        "model_rfsmt.fit(X_train_smt, y_train_smt)\n",
        "predictions = model_rfsmt.predict(X_test)\n",
        "cm = confusion_matrix(y_test, predictions, labels=model_rfsmt.classes_)\n",
        "disp = ConfusionMatrixDisplay(confusion_matrix=cm,display_labels=model_rfsmt.classes_)\n",
        "disp.plot(cmap=plt.cm.Blues,values_format='g')\n",
        "plt.show()"
      ],
      "metadata": {
        "colab": {
          "base_uri": "https://localhost:8080/",
          "height": 449
        },
        "id": "o1elBGTPEzB8",
        "outputId": "82012b1f-0db3-4e0f-9e34-8d6ed82463ff"
      },
      "execution_count": null,
      "outputs": [
        {
          "output_type": "display_data",
          "data": {
            "text/plain": [
              "<Figure size 640x480 with 2 Axes>"
            ],
            "image/png": "[encoded data removed]"
          },
          "metadata": {}
        }
      ]
    },
    {
      "cell_type": "markdown",
      "source": [
        "RandomForestClassifier nắm bắt được 85 trong số 101 trường hợp gian lận và chỉ có 12 trường hợp bị phát hiện nhầm giao dịch bình thường thành giao dịch gian lận"
      ],
      "metadata": {
        "id": "od9BraFhZxOO"
      }
    },
    {
      "cell_type": "code",
      "source": [
        "y_pred_2 = model_rfsmt.predict(X_test)\n",
        "print(classification_report(y_test, y_pred_2, digits=4))"
      ],
      "metadata": {
        "colab": {
          "base_uri": "https://localhost:8080/"
        },
        "id": "xtIxKE1pbzKP",
        "outputId": "74e24536-967e-4178-c2af-65a784b7c8a2"
      },
      "execution_count": null,
      "outputs": [
        {
          "output_type": "stream",
          "name": "stdout",
          "text": [
            "              precision    recall  f1-score   support\n",
            "\n",
            "           0     0.9997    0.9998    0.9998     56861\n",
            "           1     0.8854    0.8416    0.8629       101\n",
            "\n",
            "    accuracy                         0.9995     56962\n",
            "   macro avg     0.9426    0.9207    0.9314     56962\n",
            "weighted avg     0.9995    0.9995    0.9995     56962\n",
            "\n"
          ]
        }
      ]
    },
    {
      "cell_type": "markdown",
      "source": [
        "Mô hình Random Forest cho kết quả f1_score tốt nhất nhưng thời gian đào tạo dài và tốn kém về mặt tính toán"
      ],
      "metadata": {
        "id": "GxruTCuycUgU"
      }
    }
  ],
  "metadata": {
    "colab": {
      "provenance": []
    },
    "kernelspec": {
      "display_name": "Python 3",
      "name": "python3"
    },
    "language_info": {
      "name": "python"
    }
  },
  "nbformat": 4,
  "nbformat_minor": 0
}